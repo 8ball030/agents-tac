{
  "cells": [
    {
      "cell_type": "markdown",
      "source": "\n# Game Generation\n\nIn this section, we describe how the initial conditions of the game are generated.\n\n\n## Preliminaries\n\nLet:\n\n- $n$: number of agents.  \n- $m$: number of goods.  \n- $M$: money endowment.  \n- $\\mathbf{u} \u003d \\langle u_1, \\dots, u_m \\rangle$: a list of utility values.  \n- $\\mathbf{s}_i \u003d \\langle s_{i1}, s_{i2}, \\dots, s_{im}\\rangle$: list of score values \n  for agent $i$ for every good $1, \\dots, m$   \n- $S \u003d \\langle \\mathbf{s}_1, \\dots, \\mathbf{s}_n \\rangle$: the preference matrix. \n  A generic element $s_{ij}$ is the score of good $j$ for agent $i$.  \n",
      "metadata": {
        "pycharm": {
          "metadata": false
        }
      }
    },
    {
      "cell_type": "code",
      "execution_count": 38,
      "outputs": [
        {
          "name": "stdout",
          "text": [
            "Number of agents:  3\nNumber of goods:  5\nMoney endowment:  20\nUtility values:  [0, 5, 10, 15, 20]\nPreference matrix (3 x 5):  [[15, 20, 5, 0, 10], [5, 15, 20, 0, 10], [10, 0, 20, 5, 15]]\n"
          ],
          "output_type": "stream"
        }
      ],
      "source": "import pprint\nimport random\nfrom typing import List\nimport numpy as np\nn \u003d 3    # nb_agents\nm \u003d 5    # nb_goods\nM \u003d 20   # money\nutility_values \u003d [i * 5 for i in range(m)]  # type: List[int]\n# preference matrix S: every row is a permutation of the utility values.\n# type: List[List[int]]\nS \u003d [random.sample(utility_values, len(utility_values)) for _ in range(n)] \n\nprint(\"Number of agents: \", n)\nprint(\"Number of goods: \", m)\nprint(\"Money endowment: \", M)\nprint(\"Utility values: \", pprint.pformat(utility_values))\nprint(\"Preference matrix ({} x {}): \".format(n, m), pprint.pformat(S))\n",
      "metadata": {
        "pycharm": {
          "metadata": false,
          "name": "#%%\n",
          "is_executing": false
        }
      }
    },
    {
      "cell_type": "markdown",
      "source": "\n## Number of good instances\n\n- $I_j$: number of instances of good $j$  \n- $\\mathbf{I} \u003d \\langle I_1, \\dots, I_M\\rangle$: vector of number of instances.   \n\nIn our setting, $I_j \\sim \\lfloor \\mathcal{U}(a, b) \\rceil$, where:\n\n- $\\Delta \u003d n / g$  \n- $a \u003d n - \\Delta$   \n- $b \u003d n + \\Delta$  \n\nThe value $g$ is a parameter that can be tuned in order to get interesting configurations.   \n$\\Delta$ depends on the number of agents (the more agents we have, the wider the interval to sample from), \nbut scaled by the parameter $g$. \n\nCode:\n",
      "metadata": {
        "pycharm": {
          "metadata": false,
          "name": "#%% md\n"
        }
      }
    },
    {
      "cell_type": "code",
      "source": "\ndef sample_good_instance(n, g) -\u003e int:\n    \"\"\"Sample the number of instances for a good.\n    :param n: the number of agents\n    :param g: the tuning parameter\n    :return the number of instances I sampled.\n    \"\"\"\n    delta \u003d n/g\n    a \u003d n - delta\n    b \u003d n + delta\n    # Return random integer in range [a, b]\n    nb_instances \u003d round(np.random.uniform(a, b))\n    return nb_instances\n\ng \u003d 3  # the good tuning parameter\n# type: List[int]\ninstances_per_good \u003d [sample_good_instance(n, g) for _ in range(m)]\n\nprint(\"Number of agents: \", n)\nprint(\"Good tuning parameter g: \", g)\nprint(\"Minimum and Maximum: [{}, {}]\".format(round(n - n/g), round(n + n/g)))\nprint(\"Instances per good: \", instances_per_good)\n",
      "metadata": {
        "pycharm": {
          "metadata": false,
          "name": "#%% \n",
          "is_executing": false
        }
      },
      "execution_count": 39,
      "outputs": [
        {
          "name": "stdout",
          "text": [
            "Number of agents:  3\nGood tuning parameter g:  3\nMinimum and Maximum: [2, 4]\nInstances per good:  [3, 3, 4, 3, 4]\n"
          ],
          "output_type": "stream"
        }
      ]
    },
    {
      "cell_type": "markdown",
      "source": "\n## Endowments\n\nLet $E$ be a $(n \\times m)$ matrix where \neach row $\\mathbf{e}_i \u003d \\langle e_{i1}, \\dots e_{im}\\rangle$ tells how many\ninstances of good $1, \\dots, m$ the agent $i$ holds. \n\nThe problem of generating uniform endowments across agents for a given good can be seen as sampling from a \nmultinomial distribution, with $I_j$ trials and $n$ possible outcomes.\n\nIn poor words:\n\n- for every good $j \u003d 1, \\dots, m$:\n    - for $I_j$ times:\n        - select uniformly at random one of the $n$ agents and increase his endowment for good $j$. \n\nCode:\n",
      "metadata": {
        "pycharm": {
          "metadata": false,
          "name": "#%% md\n"
        }
      }
    },
    {
      "cell_type": "code",
      "execution_count": 41,
      "outputs": [
        {
          "name": "stdout",
          "text": [
            "Endowments: \n[[2 2 0 0 3]\n [1 1 2 2 0]\n [0 0 2 1 1]]\n"
          ],
          "output_type": "stream"
        }
      ],
      "source": "\nendowments \u003d [[0] * m for _ in range(n)]  # type: List[List[int]]\n\nfor good_id in range(m):\n    for _ in range(instances_per_good[good_id]):\n        agent_id \u003d random.randint(0, n - 1)\n        endowments[agent_id][good_id] +\u003d 1\n\nprint(\"Endowments: \")\nprint(np.asarray(endowments))",
      "metadata": {
        "pycharm": {
          "metadata": false,
          "name": "#%%\n",
          "is_executing": false
        }
      }
    },
    {
      "cell_type": "markdown",
      "source": "\nHowever, in order to have a maximum of `2` instances per good for every agent,\nfor a given good $j$, we do the following:\n\n- Let $h \u003d \\lfloor I_j / 2 \\rfloor$\n    - if $n\\mod 2 \\neq 0$ use two values $h, h\u0027$ such that $h\u0027 \u003d h + 1$, otherwise $h \u003d h\u0027$  \n- Let $\\mathbf{a} \\in \\{0, 1\\}^n$ be an allocation of good instances of $j$. Formally, $\\mathbf{a}$ is a \nsample from a multivariate hypergeometric distribution.\n    - In simpler terms, we choose an agent for $h$ times __without replacement__, and for every \n    chosen agent $i$ we have $a_i \u003d 1$.  \n    - in particular, it must be true that $\\sum_i a_i \u003d h$ and $\\max_i a_i \u003d 1$\n- Let\u0027s compute two allocations $\\mathbf{a}$ and $\\mathbf{a}\u0027$, associated with $h$ and $h\u0027$ respectively.\n- $\\forall i$, we will have $e_{ij} \u003d a_i + a_i\u0027$ \n\nRepeat this procedure for every good $j \u003d 1, \\dots, m$.\n\nThe code: \n",
      "metadata": {
        "pycharm": {
          "metadata": false,
          "name": "#%% md\n"
        }
      }
    },
    {
      "cell_type": "code",
      "execution_count": 48,
      "outputs": [
        {
          "name": "stdout",
          "text": [
            "Endowments: \n[[0 0 2 2 1]\n [1 1 2 0 2]\n [2 2 0 1 1]]\n"
          ],
          "output_type": "stream"
        }
      ],
      "source": "\ndef compute_allocation(n: int, h: int) -\u003e List[int]:\n    \"\"\"\n    Compute an allocation (defined above).\n    :param n: the number of agents.\n    :param h: the number of instances to allocate.\n    :return: the allocation (a vector of 0s and 1s\n    \"\"\"\n    allocation \u003d [0] * n\n    for i in random.sample(range(n), h):\n        allocation[i] \u003d 1\n    return allocation\n\ndef compute_endowment_of_good(n, nb_instances) -\u003e List[int]:\n    \"\"\"\n    Compute the allocation for all the agent of a single good.\n    :param n: the number of agents.\n    :param nb_instances: the number of instances of the good.\n    :return: the endowment of good j for all the agents.\n    \"\"\"\n    I_j \u003d nb_instances\n    h_1, h_2 \u003d (I_j // 2, I_j // 2) if I_j % 2 \u003d\u003d 0 else (I_j // 2, I_j // 2 + 1)\n    a_1, a_2 \u003d [compute_allocation(n, h_1), compute_allocation(n, h_2)]\n    \n    endowment \u003d [a_1[idx] + a_2[idx] for idx in range(n)]\n    \n    return endowment\n\n# matrix (m X n)\n# type: List[List[int]]\nendowments_by_good \u003d [compute_endowment_of_good(n, I_j) for I_j in instances_per_good]\n\n# matrix (n X m)\n# type: List[List[int]]\nendowments \u003d np.asarray(endowments_by_good).T.tolist()\n\nprint(\"Endowments: \")\nprint(np.asarray(endowments))\n",
      "metadata": {
        "pycharm": {
          "metadata": false,
          "name": "#%%\n",
          "is_executing": false
        }
      }
    }
  ],
  "metadata": {
    "language_info": {
      "codemirror_mode": {
        "name": "ipython",
        "version": 2
      },
      "file_extension": ".py",
      "mimetype": "text/x-python",
      "name": "python",
      "nbconvert_exporter": "python",
      "pygments_lexer": "ipython2",
      "version": "2.7.6"
    },
    "kernelspec": {
      "name": "python3",
      "language": "python",
      "display_name": "Python 3"
    },
    "stem_cell": {
      "cell_type": "raw",
      "source": "",
      "metadata": {
        "pycharm": {
          "metadata": false
        }
      }
    }
  },
  "nbformat": 4,
  "nbformat_minor": 0
}