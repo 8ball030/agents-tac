{
 "cells": [
  {
   "cell_type": "markdown",
   "metadata": {
    "pycharm": {
     "metadata": false
    }
   },
   "source": [
    "\n",
    "# Game Generation\n",
    "\n",
    "In this section, we describe how the initial conditions of the game are generated.\n",
    "\n",
    "\n",
    "## Preliminaries\n",
    "\n",
    "Let:\n",
    "\n",
    "- $n$: number of agents.\n",
    "- $I := \\{1, \\dots, n\\}$\n",
    "- $m$: number of goods.\n",
    "- $G := \\{1, \\dots, m\\}$\n",
    "- $M$: money endowment.  \n",
    "- $\\mathbf{e} = \\langle\\mathbf{e}^1, \\dots, \\mathbf{e}^n\\rangle$: list of good endowment vectors, one for each agent.\n",
    "- $\\mathbf{e}^i = \\langle e^i_1, \\dots, e^i_m\\rangle$: list of good endowments for agent $i$.\n",
    "- $\\mathbf{s} = \\langle \\mathbf{s}^1, \\dots, \\mathbf{s}^n \\rangle$: a list of preference score vectors, one for each agent.\n",
    "- $\\mathbf{s}^i = \\langle s^i_1, \\dots, s^i_m \\rangle$: a list of preference scores, one for each good, for agent $i$.\n",
    "- $\\mathbf{x} = \\langle \\mathbf{x}^1, \\dots, \\mathbf{x}^n \\rangle$: a list of good holding vectors, one for each agent.\n",
    "- $\\mathbf{x}^i = \\langle x^i_1, \\dots, x^i_m \\rangle$: a list of good holdings, one for each good, for agent $i$.\n",
    "- $\\mathbf{p} = \\langle p_1, \\dots, p_m \\rangle$: a list of prices, one for each good.\n",
    "- $\\mathbf{f} = \\langle f^1, \\dots, f^n\\rangle$: list of money holdings, one for each agent.\n",
    "- $f^i, x^i_j, s^i_j, e^i_j$ are non-negative reals."
   ]
  },
  {
   "cell_type": "code",
   "execution_count": 1,
   "metadata": {
    "pycharm": {
     "is_executing": false,
     "metadata": false,
     "name": "#%%\n"
    }
   },
   "outputs": [
    {
     "ename": "ZeroDivisionError",
     "evalue": "division by zero",
     "output_type": "error",
     "traceback": [
      "\u001b[0;31m---------------------------------------------------------------------------\u001b[0m",
      "\u001b[0;31mZeroDivisionError\u001b[0m                         Traceback (most recent call last)",
      "\u001b[0;32m<ipython-input-1-9c7514b68d2b>\u001b[0m in \u001b[0;36m<module>\u001b[0;34m\u001b[0m\n\u001b[1;32m      6\u001b[0m \u001b[0mm\u001b[0m \u001b[0;34m=\u001b[0m \u001b[0;36m5\u001b[0m    \u001b[0;31m# nb_goods\u001b[0m\u001b[0;34m\u001b[0m\u001b[0;34m\u001b[0m\u001b[0m\n\u001b[1;32m      7\u001b[0m \u001b[0mM\u001b[0m \u001b[0;34m=\u001b[0m \u001b[0;36m20\u001b[0m   \u001b[0;31m# money\u001b[0m\u001b[0;34m\u001b[0m\u001b[0;34m\u001b[0m\u001b[0m\n\u001b[0;32m----> 8\u001b[0;31m \u001b[0mfractions\u001b[0m \u001b[0;34m=\u001b[0m \u001b[0;34m[\u001b[0m\u001b[0;36m1\u001b[0m\u001b[0;34m/\u001b[0m\u001b[0mi\u001b[0m\u001b[0;34m+\u001b[0m\u001b[0;36m2\u001b[0m \u001b[0;32mfor\u001b[0m \u001b[0mi\u001b[0m \u001b[0;32min\u001b[0m \u001b[0mrange\u001b[0m\u001b[0;34m(\u001b[0m\u001b[0mm\u001b[0m\u001b[0;34m)\u001b[0m\u001b[0;34m]\u001b[0m  \u001b[0;31m# type: List[int]\u001b[0m\u001b[0;34m\u001b[0m\u001b[0;34m\u001b[0m\u001b[0m\n\u001b[0m\u001b[1;32m      9\u001b[0m \u001b[0mfractions\u001b[0m \u001b[0;34m=\u001b[0m \u001b[0;34m[\u001b[0m\u001b[0;34m]\u001b[0m\u001b[0;34m\u001b[0m\u001b[0;34m\u001b[0m\u001b[0m\n\u001b[1;32m     10\u001b[0m \u001b[0;34m\u001b[0m\u001b[0m\n",
      "\u001b[0;32m<ipython-input-1-9c7514b68d2b>\u001b[0m in \u001b[0;36m<listcomp>\u001b[0;34m(.0)\u001b[0m\n\u001b[1;32m      6\u001b[0m \u001b[0mm\u001b[0m \u001b[0;34m=\u001b[0m \u001b[0;36m5\u001b[0m    \u001b[0;31m# nb_goods\u001b[0m\u001b[0;34m\u001b[0m\u001b[0;34m\u001b[0m\u001b[0m\n\u001b[1;32m      7\u001b[0m \u001b[0mM\u001b[0m \u001b[0;34m=\u001b[0m \u001b[0;36m20\u001b[0m   \u001b[0;31m# money\u001b[0m\u001b[0;34m\u001b[0m\u001b[0;34m\u001b[0m\u001b[0m\n\u001b[0;32m----> 8\u001b[0;31m \u001b[0mfractions\u001b[0m \u001b[0;34m=\u001b[0m \u001b[0;34m[\u001b[0m\u001b[0;36m1\u001b[0m\u001b[0;34m/\u001b[0m\u001b[0mi\u001b[0m\u001b[0;34m+\u001b[0m\u001b[0;36m2\u001b[0m \u001b[0;32mfor\u001b[0m \u001b[0mi\u001b[0m \u001b[0;32min\u001b[0m \u001b[0mrange\u001b[0m\u001b[0;34m(\u001b[0m\u001b[0mm\u001b[0m\u001b[0;34m)\u001b[0m\u001b[0;34m]\u001b[0m  \u001b[0;31m# type: List[int]\u001b[0m\u001b[0;34m\u001b[0m\u001b[0;34m\u001b[0m\u001b[0m\n\u001b[0m\u001b[1;32m      9\u001b[0m \u001b[0mfractions\u001b[0m \u001b[0;34m=\u001b[0m \u001b[0;34m[\u001b[0m\u001b[0;34m]\u001b[0m\u001b[0;34m\u001b[0m\u001b[0;34m\u001b[0m\u001b[0m\n\u001b[1;32m     10\u001b[0m \u001b[0;34m\u001b[0m\u001b[0m\n",
      "\u001b[0;31mZeroDivisionError\u001b[0m: division by zero"
     ]
    }
   ],
   "source": [
    "import pprint\n",
    "import random\n",
    "from typing import List\n",
    "import numpy as np\n",
    "n = 3    # nb_agents\n",
    "m = 5    # nb_goods\n",
    "M = 20   # money\n",
    "fractions = [1/i+2 for i in range(m)]  # type: List[int]\n",
    "fractions = []\n",
    "\n",
    "# type: List[List[int]]\n",
    "S = [random.sample(utility_values, len(utility_values)) for _ in range(n)] \n",
    "\n",
    "print(\"Number of agents: \", n)\n",
    "print(\"Number of goods: \", m)\n",
    "print(\"Money endowment: \", M)\n",
    "print(\"Utility values: \", pprint.pformat(utility_values))\n",
    "print(\"Preference matrix ({} x {}): \".format(n, m), pprint.pformat(S))\n"
   ]
  },
  {
   "cell_type": "markdown",
   "metadata": {
    "pycharm": {
     "metadata": false,
     "name": "#%% md\n"
    }
   },
   "source": [
    "\n",
    "## Number of good instances\n",
    "\n",
    "- $I_j$: number of instances of good $j$  \n",
    "- $\\mathbf{I} = \\langle I_1, \\dots, I_M\\rangle$: vector of number of instances.   \n",
    "\n",
    "In our setting, $I_j \\sim \\lfloor \\mathcal{U}(a, b) \\rceil$, where:\n",
    "\n",
    "- $\\Delta = n / g$  \n",
    "- $a = n - \\Delta$   \n",
    "- $b = n + \\Delta$  \n",
    "\n",
    "The value $g$ is a parameter that can be tuned in order to get interesting configurations.   \n",
    "$\\Delta$ depends on the number of agents (the more agents we have, the wider the interval to sample from), \n",
    "but scaled by the parameter $g$. \n",
    "\n",
    "Code:\n"
   ]
  },
  {
   "cell_type": "code",
   "execution_count": 2,
   "metadata": {
    "pycharm": {
     "is_executing": false,
     "metadata": false,
     "name": "#%% \n"
    }
   },
   "outputs": [
    {
     "name": "stdout",
     "output_type": "stream",
     "text": [
      "Number of agents:  3\n",
      "Good tuning parameter g:  3\n",
      "Minimum and Maximum: [2, 4]\n",
      "Instances per good:  [3, 2, 2, 4, 4]\n"
     ]
    }
   ],
   "source": [
    "\n",
    "def sample_good_instance(n, g) -> int:\n",
    "    \"\"\"Sample the number of instances for a good.\n",
    "    :param n: the number of agents\n",
    "    :param g: the tuning parameter\n",
    "    :return the number of instances I sampled.\n",
    "    \"\"\"\n",
    "    delta = n/g\n",
    "    a = n - delta\n",
    "    b = n + delta\n",
    "    # Return random integer in range [a, b]\n",
    "    nb_instances = round(np.random.uniform(a, b))\n",
    "    return nb_instances\n",
    "\n",
    "g = 3  # the good tuning parameter\n",
    "# type: List[int]\n",
    "instances_per_good = [sample_good_instance(n, g) for _ in range(m)]\n",
    "\n",
    "print(\"Number of agents: \", n)\n",
    "print(\"Good tuning parameter g: \", g)\n",
    "print(\"Minimum and Maximum: [{}, {}]\".format(round(n - n/g), round(n + n/g)))\n",
    "print(\"Instances per good: \", instances_per_good)\n"
   ]
  },
  {
   "cell_type": "markdown",
   "metadata": {
    "pycharm": {
     "metadata": false,
     "name": "#%% md\n"
    }
   },
   "source": [
    "\n",
    "## Endowments\n",
    "\n",
    "Let $E$ be a $(n \\times m)$ matrix where \n",
    "each row $\\mathbf{e}_i = \\langle e_{i1}, \\dots e_{im}\\rangle$ tells how many\n",
    "instances of good $1, \\dots, m$ the agent $i$ holds. \n",
    "\n",
    "The problem of generating uniform endowments across agents for a given good can be seen as sampling from a \n",
    "multinomial distribution, with $I_j$ trials and $n$ possible outcomes.\n",
    "\n",
    "In poor words:\n",
    "\n",
    "- for every good $j = 1, \\dots, m$:\n",
    "    - for $I_j$ times:\n",
    "        - select uniformly at random one of the $n$ agents and increase his endowment for good $j$. \n",
    "\n",
    "Code:\n"
   ]
  },
  {
   "cell_type": "code",
   "execution_count": 3,
   "metadata": {
    "pycharm": {
     "is_executing": false,
     "metadata": false,
     "name": "#%%\n"
    }
   },
   "outputs": [
    {
     "name": "stdout",
     "output_type": "stream",
     "text": [
      "Endowments: \n",
      "[[1 0 1 1 2]\n",
      " [0 1 1 2 1]\n",
      " [2 1 0 1 1]]\n"
     ]
    }
   ],
   "source": [
    "\n",
    "endowments = [[0] * m for _ in range(n)]  # type: List[List[int]]\n",
    "\n",
    "for good_id in range(m):\n",
    "    for _ in range(instances_per_good[good_id]):\n",
    "        agent_id = random.randint(0, n - 1)\n",
    "        endowments[agent_id][good_id] += 1\n",
    "\n",
    "print(\"Endowments: \")\n",
    "print(np.asarray(endowments))"
   ]
  },
  {
   "cell_type": "markdown",
   "metadata": {
    "pycharm": {
     "metadata": false,
     "name": "#%% md\n"
    }
   },
   "source": [
    "\n",
    "However, in order to have a maximum of `2` instances per good for every agent,\n",
    "for a given good $j$, we do the following:\n",
    "\n",
    "- Let $h = \\lfloor I_j / 2 \\rfloor$\n",
    "    - if $n\\mod 2 \\neq 0$ use two values $h, h'$ such that $h' = h + 1$, otherwise $h = h'$  \n",
    "- Let $\\mathbf{a} \\in \\{0, 1\\}^n$ be an allocation of good instances of $j$. Formally, $\\mathbf{a}$ is a \n",
    "sample from a multivariate hypergeometric distribution.\n",
    "    - In simpler terms, we choose an agent for $h$ times __without replacement__, and for every \n",
    "    chosen agent $i$ we have $a_i = 1$.  \n",
    "    - in particular, it must be true that $\\sum_i a_i = h$ and $\\max_i a_i = 1$\n",
    "- Let's compute two allocations $\\mathbf{a}$ and $\\mathbf{a}'$, associated with $h$ and $h'$ respectively.\n",
    "- $\\forall i$, we will have $e_{ij} = a_i + a_i'$ \n",
    "\n",
    "Repeat this procedure for every good $j = 1, \\dots, m$.\n",
    "\n",
    "The code: \n"
   ]
  },
  {
   "cell_type": "code",
   "execution_count": 4,
   "metadata": {
    "pycharm": {
     "is_executing": false,
     "metadata": false,
     "name": "#%%\n"
    }
   },
   "outputs": [
    {
     "name": "stdout",
     "output_type": "stream",
     "text": [
      "Endowments: \n",
      "[[1 0 0 2 2]\n",
      " [2 1 1 0 0]\n",
      " [0 1 1 2 2]]\n"
     ]
    }
   ],
   "source": [
    "\n",
    "def compute_allocation(n: int, h: int) -> List[int]:\n",
    "    \"\"\"\n",
    "    Compute an allocation (defined above).\n",
    "    :param n: the number of agents.\n",
    "    :param h: the number of instances to allocate.\n",
    "    :return: the allocation (a vector of 0s and 1s\n",
    "    \"\"\"\n",
    "    allocation = [0] * n\n",
    "    for i in random.sample(range(n), h):\n",
    "        allocation[i] = 1\n",
    "    return allocation\n",
    "\n",
    "def compute_endowment_of_good(n, nb_instances) -> List[int]:\n",
    "    \"\"\"\n",
    "    Compute the allocation for all the agent of a single good.\n",
    "    :param n: the number of agents.\n",
    "    :param nb_instances: the number of instances of the good.\n",
    "    :return: the endowment of good j for all the agents.\n",
    "    \"\"\"\n",
    "    I_j = nb_instances\n",
    "    h_1, h_2 = (I_j // 2, I_j // 2) if I_j % 2 == 0 else (I_j // 2, I_j // 2 + 1)\n",
    "    a_1, a_2 = [compute_allocation(n, h_1), compute_allocation(n, h_2)]\n",
    "    \n",
    "    endowment = [a_1[idx] + a_2[idx] for idx in range(n)]\n",
    "    \n",
    "    return endowment\n",
    "\n",
    "# matrix (m X n)\n",
    "# type: List[List[int]]\n",
    "endowments_by_good = [compute_endowment_of_good(n, I_j) for I_j in instances_per_good]\n",
    "\n",
    "# matrix (n X m)\n",
    "# type: List[List[int]]\n",
    "endowments = np.asarray(endowments_by_good).T.tolist()\n",
    "\n",
    "print(\"Endowments: \")\n",
    "print(np.asarray(endowments))\n"
   ]
  },
  {
   "cell_type": "code",
   "execution_count": null,
   "metadata": {},
   "outputs": [],
   "source": []
  }
 ],
 "metadata": {
  "kernelspec": {
   "display_name": "Python 3",
   "language": "python",
   "name": "python3"
  },
  "language_info": {
   "codemirror_mode": {
    "name": "ipython",
    "version": 3
   },
   "file_extension": ".py",
   "mimetype": "text/x-python",
   "name": "python",
   "nbconvert_exporter": "python",
   "pygments_lexer": "ipython3",
   "version": "3.7.2"
  },
  "stem_cell": {
   "cell_type": "raw",
   "metadata": {
    "pycharm": {
     "metadata": false
    }
   },
   "source": ""
  }
 },
 "nbformat": 4,
 "nbformat_minor": 1
}
