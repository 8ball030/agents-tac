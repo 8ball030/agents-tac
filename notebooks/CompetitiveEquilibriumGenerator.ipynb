{
 "cells": [
  {
   "cell_type": "markdown",
   "metadata": {},
   "source": [
    "# Computing a Competitive Equilibrium"
   ]
  },
  {
   "cell_type": "markdown",
   "metadata": {},
   "source": [
    "Competitive equilibria are extremely well studied by economists. Here some useful resources:\n",
    "- [one](https://web.stanford.edu/~jdlevin/Econ%20202/General%20Equilibrium.pdf)\n",
    "- [two](http://www.columbia.edu/~md3405/IM_CE.pdf)\n",
    "- [three](http://nicolalimodio.com/wp-content/uploads/2015/11/ec202d.pdf)\n",
    "- [four](http://timroughgarden.org/talks/tcsplus15.pdf)\n",
    "- [five](https://arxiv.org/pdf/1511.04032.pdf), [six](http://www.cs.tau.ac.il/~fiat/cgt12/walras.pdf)\n",
    "- [seven](http://darp.lse.ac.uk/presentations/MP2Book/OUP/ConsumerOptimisation.pdf)\n",
    "\n",
    "Our agents are assigned preferences and endowments at the start of the game."
   ]
  },
  {
   "cell_type": "markdown",
   "metadata": {},
   "source": [
    "Let:\n",
    "\n",
    "- $n$: number of agents.\n",
    "- $I := \\{1, \\dots, n\\}$\n",
    "- $m$: number of goods.\n",
    "- $G := \\{1, \\dots, m\\}$\n",
    "- $M$: money endowment.\n",
    "- $\\mathbf{e} = \\langle\\mathbf{e}^1, \\dots, \\mathbf{e}^n\\rangle$: list of good endowment vectors, one for each agent.\n",
    "- $\\mathbf{e}^i = \\langle e^i_1, \\dots, e^i_m\\rangle$: list of good endowments for agent $i$.\n",
    "- $\\mathbf{s} = \\langle \\mathbf{s}^1, \\dots, \\mathbf{s}^n \\rangle$: a list of preference score vectors, one for each agent.\n",
    "- $\\mathbf{s}^i = \\langle s^i_1, \\dots, s^i_m \\rangle$: a list of preference scores, one for each good, for agent $i$.\n",
    "- $\\mathbf{x} = \\langle \\mathbf{x}^1, \\dots, \\mathbf{x}^n \\rangle$: a list of good holding vectors, one for each agent.\n",
    "- $\\mathbf{x}^i = \\langle x^i_1, \\dots, x^i_m \\rangle$: a list of good holdings, one for each good, for agent $i$.\n",
    "- $\\mathbf{p} = \\langle p_1, \\dots, p_m \\rangle$: a list of prices, one for each good.\n",
    "- $\\mathbf{f} = \\langle f^1, \\dots, f^n\\rangle$: list of money holdings, one for each agent.\n",
    "- $f^i, x^i_j, s^i_j, e^i_j$ are non-negative reals."
   ]
  },
  {
   "cell_type": "markdown",
   "metadata": {},
   "source": [
    "Option 1 (Current Implementation): Utility of agent $i$ is defined as:\n",
    "\n",
    "$\n",
    "\\begin{equation}\n",
    "u(f^i, \\mathbf{x}^i, \\mathbf{s}^i) = f^i + \\sum_{j \\in G} \\mathbb{1}\\left(x^i_j > 0 \\right) s^i_j\n",
    "\\end{equation}\n",
    "$"
   ]
  },
  {
   "cell_type": "markdown",
   "metadata": {},
   "source": [
    "Option 2 (Perfect Substitutes): Utility of agent $i$ is defined as:\n",
    "\n",
    "$\n",
    "\\begin{equation}\n",
    "u(f^i, \\mathbf{x}^i, \\mathbf{s}^i) = f^i + \\sum_{j \\in G} x^i_j s^i_j\n",
    "\\end{equation}\n",
    "$"
   ]
  },
  {
   "cell_type": "markdown",
   "metadata": {},
   "source": [
    "Option 3 (Transformed Cobb-Douglas): Utility of agent $i$ is defined as:\n",
    "\n",
    "$\n",
    "\\begin{equation}\n",
    "u(f^i, \\mathbf{x}^i, \\mathbf{s}^i) = f^i + \\sum_{j \\in G} s^i_j \\ln \\left(x^i_j\\right) \n",
    "\\end{equation}\n",
    "$\n",
    "and \n",
    "$\n",
    "\\begin{equation}\n",
    "\\sum_{j \\in G} s^i_j = 1\n",
    "\\end{equation}\n",
    "$\n",
    "and\n",
    "$s^i_j > 0$"
   ]
  },
  {
   "cell_type": "markdown",
   "metadata": {},
   "source": [
    "For the agent optimization problem to have a unique solution the agent's utility needs to satisfy:\n",
    "- (A1) $u(\\cdot)$ is continuous in all its arguments\n",
    "- (A2) $u(\\cdot)$ is increasing, that is $u(f^i, \\tilde{\\mathbf{x}}^i, \\mathbf{s}^i) > u(f^i, \\mathbf{x}^i, \\mathbf{s}^i)$ whenever $u(f^i, \\tilde{\\mathbf{x}}^i, \\mathbf{s}^i) >> u(f^i, \\mathbf{x}^i, \\mathbf{s}^i)$.\n",
    "- (A3) $u(\\cdot)$ is concave\n",
    "\n",
    "For Option 1 these are not all satisfied, for option 2 & 3 they are all satisfied."
   ]
  },
  {
   "cell_type": "markdown",
   "metadata": {},
   "source": [
    "## Agent Optimization Problem"
   ]
  },
  {
   "cell_type": "markdown",
   "metadata": {},
   "source": [
    "An agent faces the following optimization problem (taking prices as given):\n",
    "\n",
    "$\n",
    "\\begin{equation}\n",
    "\\max u\\left(f^i, \\mathbf{x}^i, \\mathbf{s}^i\\right) \\text{s.t. } \\sum_{j \\in G} p_j x^i_j \\leq \\sum_{j \\in G} p_j e^i_j\n",
    "\\end{equation}\n",
    "$"
   ]
  },
  {
   "cell_type": "markdown",
   "metadata": {},
   "source": [
    "The Lagrangian of this problem is:\n",
    "\n",
    "$\n",
    "\\begin{equation}\n",
    "L = u\\left(f^i, \\mathbf{x}^i, \\mathbf{s}^i\\right) + \\lambda \\left(\\sum_{j \\in G} p_j e^i_j - \\sum_{j \\in G} p_j x^i_j\\right)\n",
    "\\end{equation}\n",
    "$\n",
    "\n",
    "And the $m+1$ first order conditions are:\n",
    "\n",
    "$\n",
    "\\begin{equation}\n",
    "\\frac{\\delta u\\left(f^i, \\mathbf{x}^i, \\mathbf{s}^i\\right)}{\\delta x_j^i}- \\lambda p_j = 0 % s_j^i - \\lambda p_j = 0\n",
    "\\end{equation}\n",
    "$\n",
    "and\n",
    "$\n",
    "\\begin{equation}\n",
    "\\sum_{j \\in G} p_j e^i_j - \\sum_{j \\in G} p_j x^i_j = 0\n",
    "\\end{equation}\n",
    "$\n",
    "\n",
    "This then allows derivation of demand functions $x^{i,\\ast}_j(\\mathbf{p}, \\mathbf{e}^i)$."
   ]
  },
  {
   "cell_type": "markdown",
   "metadata": {},
   "source": [
    "## Competitive Equilibrium"
   ]
  },
  {
   "cell_type": "markdown",
   "metadata": {},
   "source": [
    "An equilibrium is a consumption bundle for each agent $\\mathbf{x}^1,\\dots,\\mathbf{x}^n$ and price $\\mathbf{p}$ such that\n",
    "\n",
    "- 1) feasibility: the allocation is feasible, that is $\\forall j \\in G$ we have $\\sum_{i \\in I} x_j^i = \\sum_{i \\in I} e_j^i$.\n",
    "- 2) optimality: the consumption bundle solves the agent's optimization problem, given prices and initial endowments: $x_j^{i,\\ast}\\left(\\mathbf{p},\\mathbf{e}^i\\right) = x_j^i$."
   ]
  },
  {
   "cell_type": "markdown",
   "metadata": {},
   "source": [
    "There exists a simple algorithm to find the competitive equilibrium:\n",
    "\n",
    "- 1. solve the optimization problem for each consumer to get their excess demand as a function of prices and endowments:  $z_j^{i,\\ast}\\left(\\mathbf{p},\\mathbf{e}^i\\right) = x_j^{i,\\ast}\\left(\\mathbf{p},\\mathbf{e}^i\\right) - e_j^i$\n",
    "- 2. find a price s.t. net demand for each good in economy is zero: $\\sum_{i \\in I} z_j^{i,\\ast}\\left(\\mathbf{p},\\mathbf{e}^i\\right) = 0$ for each $j \\in G$"
   ]
  },
  {
   "cell_type": "markdown",
   "metadata": {},
   "source": [
    "Intuitively: the agent's sell their endowments $\\mathbf{e}^i$ at market prices $\\mathbf{p}$ and then buy the best bundle they can afford."
   ]
  },
  {
   "cell_type": "markdown",
   "metadata": {},
   "source": [
    "Properties of the competitive equilibrium:\n",
    "\n",
    "- Existence: Consider an economy which satisfies $A1-A4$, then there exists a CE $\\left(\\mathbf{p},\\left(\\mathbf{x}^i\\right)_{i \\in I}\\right)$.\n",
    "- Uniqueness: The CE is not in general unique.\n",
    "- Stability (do reasonable dynamic adjustment processes converge to CE): Not in general.\n",
    "- First Welfare Theorem: Let $\\left(\\mathbf{p},\\left(\\mathbf{x}^i\\right)_{i \\in I}\\right)$ be a CE, then (given A2 holds) $\\left(\\mathbf{x}^i\\right)_{i \\in I}$ is Pareto optimal. This means, we cannot make any agent better off without making another agent worse off.\n",
    "- Second Welfare Theorem: Consider an economy which satisfies $A1-A4$. If $\\left(\\mathbf{x}^i\\right)_{i \\in I}$ is Pareto optimal then there exists a $\\mathbf{p}$ such that $\\left(\\mathbf{p},\\left(\\mathbf{x}^i\\right)_{i \\in I}\\right)$ is a CE. This means, we can achieve any Pareto optimal allocation with some price vector (potentially requiring redistribution of endowments).\n",
    "\n",
    "where\n",
    "- A4: $\\mathbf{e}^i >> 0$"
   ]
  },
  {
   "cell_type": "markdown",
   "metadata": {},
   "source": [
    "However, there exists a subclass of utility functions which satisfy the gross-substitues property and as a result guarantee a unique equilibrium.\n",
    "\n",
    "Option 3 falls into that class."
   ]
  },
  {
   "cell_type": "markdown",
   "metadata": {},
   "source": [
    "## Our Game"
   ]
  },
  {
   "cell_type": "markdown",
   "metadata": {},
   "source": [
    "We take Option 3. Then it can be shown that the agent's demand functions are\n",
    "$\n",
    "\\begin{equation}\n",
    "x^{i,\\ast}_j(\\mathbf{p}, \\mathbf{e}^i) = \\frac{s_j^{i}}{p_j}\\sum_{k \\in G} p_k e^i_k\n",
    "\\end{equation}\n",
    "$\n",
    "and excess demand functions are\n",
    "$\n",
    "\\begin{equation}\n",
    "z^{i,\\ast}_j(\\mathbf{p}, \\mathbf{e}^i) = \\frac{s_j^{i}}{p_j}\\sum_{k \\in G} p_k e^i_k - e_j^i\n",
    "\\end{equation}\n",
    "$"
   ]
  },
  {
   "cell_type": "markdown",
   "metadata": {},
   "source": [
    "We therefore have the zero net demand for $j$ condition given by:\n",
    "$\n",
    "\\begin{equation}\n",
    "\\sum_{i \\in I} \\frac{s_j^{i}}{p_j}\\sum_{k \\in G} p_k e^i_k - \\sum_{i \\in I} e_j^i = 0\n",
    "\\end{equation}\n",
    "$\n",
    "which is homogenous of degree zero. Hence, we can set $p_1 = 1 w.l.o.g$.\n",
    "Then for $j \\neq 1$ we have\n",
    "$\n",
    "$"
   ]
  },
  {
   "cell_type": "code",
   "execution_count": null,
   "metadata": {},
   "outputs": [],
   "source": []
  }
 ],
 "metadata": {
  "kernelspec": {
   "display_name": "Python 3",
   "language": "python",
   "name": "python3"
  },
  "language_info": {
   "codemirror_mode": {
    "name": "ipython",
    "version": 3
   },
   "file_extension": ".py",
   "mimetype": "text/x-python",
   "name": "python",
   "nbconvert_exporter": "python",
   "pygments_lexer": "ipython3",
   "version": "3.7.2"
  }
 },
 "nbformat": 4,
 "nbformat_minor": 2
}
