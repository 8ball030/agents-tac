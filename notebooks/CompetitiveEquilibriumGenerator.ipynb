{
 "cells": [
  {
   "cell_type": "markdown",
   "metadata": {},
   "source": [
    "# Computing a Competitive Equilibrium"
   ]
  },
  {
   "cell_type": "markdown",
   "metadata": {},
   "source": [
    "Competitive equilibria are extremely well studied by economists. Here some useful resources:\n",
    "- [one](https://web.stanford.edu/~jdlevin/Econ%20202/General%20Equilibrium.pdf)\n",
    "- [two](http://www.columbia.edu/~md3405/IM_CE.pdf)\n",
    "- [three](http://nicolalimodio.com/wp-content/uploads/2015/11/ec202d.pdf)\n",
    "\n",
    "Our agents are assigned preferences and endowments at the start of the game."
   ]
  },
  {
   "cell_type": "markdown",
   "metadata": {},
   "source": [
    "Let:\n",
    "\n",
    "- $n$: number of agents.\n",
    "- $P := \\{1, \\dots, n\\}$\n",
    "- $m$: number of goods.\n",
    "- $G := \\{1, \\dots, m\\}$\n",
    "- $M$: money endowment.\n",
    "- $\\mathbf{e} = \\langle\\mathbf{e}^1, \\dots, \\mathbf{e}^n\\rangle$: list of good endowment vectors, one for each agent.\n",
    "- $\\mathbf{e}^i = \\langle e^i_1, \\dots, e^i_m\\rangle$: list of good endowments for agent $i$.\n",
    "- $\\mathbf{s} = \\langle \\mathbf{s}^1, \\dots, \\mathbf{s}^n \\rangle$: a list of preference score vectors, one for each agent.\n",
    "- $\\mathbf{s}^i = \\langle s^i_1, \\dots, s^i_m \\rangle$: a list of preference scores, one for each good, for agent $i$.\n",
    "- $\\mathbf{x} = \\langle \\mathbf{x}^1, \\dots, \\mathbf{x}^n \\rangle$: a list of good holding vectors, one for each agent.\n",
    "- $\\mathbf{x}^i = \\langle x^i_1, \\dots, x^i_m \\rangle$: a list of good holdings, one for each good, for agent $i$.\n",
    "- $\\mathbf{p} = \\langle p_1, \\dots, p_m \\rangle$: a list of prices, one for each good.\n",
    "- $\\mathbf{f} = \\langle f^1, \\dots, f^n\\rangle$: list of money holdings, one for each agent.\n",
    "- $f^i, x^i_j, s^i_j, e^i_j$ are non-negative reals."
   ]
  },
  {
   "cell_type": "markdown",
   "metadata": {},
   "source": [
    "Utility of agent $i$ is defined as:\n",
    "\n",
    "$\n",
    "\\begin{equation}\n",
    "u(f^i, \\mathbf{x}^i, \\mathbf{s}^i) = f^i + \\sum_{j \\in G} x^i_j s^i_j\n",
    "\\end{equation}\n",
    "$"
   ]
  },
  {
   "cell_type": "markdown",
   "metadata": {},
   "source": [
    "This means, the agent's utility satisfies:\n",
    "- (A1) $u(\\cdot)$ is continuous in all its arguments\n",
    "- (A2) $u(\\cdot)$ is increasing, that is $u(f^i, \\tilde{\\mathbf{x}}^i, \\mathbf{s}^i) > u(f^i, \\mathbf{x}^i, \\mathbf{s}^i)$ whenever $u(f^i, \\tilde{\\mathbf{x}}^i, \\mathbf{s}^i) >> u(f^i, \\mathbf{x}^i, \\mathbf{s}^i)$.\n",
    "- (A3) $u(\\cdot)$ is concave"
   ]
  },
  {
   "cell_type": "markdown",
   "metadata": {},
   "source": [
    "## Agent Optimization Problem"
   ]
  },
  {
   "cell_type": "markdown",
   "metadata": {},
   "source": [
    "An agent faces the following optimization problem:\n",
    "\n",
    "$\n",
    "\\begin{equation}\n",
    "\\max u\\left(f^i, \\mathbf{x}^i, \\mathbf{s}^i\\right) \\text{s.t. } \\sum_{j \\in G} p_j x^i_j \\leq \\sum_{j \\in G} p_j e^i_j\n",
    "\\end{equation}\n",
    "$"
   ]
  },
  {
   "cell_type": "markdown",
   "metadata": {},
   "source": [
    "The Lagrangian of this problem is:\n",
    "\n",
    "$\n",
    "\\begin{equation}\n",
    "L = u\\left(f^i, \\mathbf{x}^i, \\mathbf{s}^i\\right) + \\lambda \\left(\\sum_{j \\in G} p_j e^i_j - \\sum_{j \\in G} p_j x^i_j\\right)\n",
    "\\end{equation}\n",
    "$\n",
    "\n",
    "And the $m+1$ first order conditions are:\n",
    "\n",
    "$\n",
    "\\begin{equation}\n",
    "s_j^i - \\lambda p_j = 0\n",
    "\\end{equation}\n",
    "$\n",
    "and\n",
    "$\n",
    "\\begin{equation}\n",
    "\\sum_{j \\in G} p_j e^i_j - \\sum_{j \\in G} p_j x^i_j = 0\n",
    "\\end{equation}\n",
    "$\n"
   ]
  },
  {
   "cell_type": "markdown",
   "metadata": {},
   "source": [
    "## Competitive Equilibrium"
   ]
  },
  {
   "cell_type": "code",
   "execution_count": null,
   "metadata": {},
   "outputs": [],
   "source": []
  }
 ],
 "metadata": {
  "kernelspec": {
   "display_name": "Python 3",
   "language": "python",
   "name": "python3"
  },
  "language_info": {
   "codemirror_mode": {
    "name": "ipython",
    "version": 3
   },
   "file_extension": ".py",
   "mimetype": "text/x-python",
   "name": "python",
   "nbconvert_exporter": "python",
   "pygments_lexer": "ipython3",
   "version": "3.7.2"
  }
 },
 "nbformat": 4,
 "nbformat_minor": 2
}
