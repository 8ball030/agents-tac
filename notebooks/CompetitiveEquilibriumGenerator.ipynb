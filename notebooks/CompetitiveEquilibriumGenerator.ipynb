{
 "cells": [
  {
   "cell_type": "markdown",
   "metadata": {},
   "source": [
    "# Computing a Competitive Equilibrium"
   ]
  },
  {
   "cell_type": "markdown",
   "metadata": {},
   "source": [
    "Competitive equilibria are extremely well studied by economists. Here some useful resources:\n",
    "- [one](https://web.stanford.edu/~jdlevin/Econ%20202/General%20Equilibrium.pdf)\n",
    "- [two](http://www.columbia.edu/~md3405/IM_CE.pdf)\n",
    "- [three](http://nicolalimodio.com/wp-content/uploads/2015/11/ec202d.pdf)\n",
    "- [four](http://timroughgarden.org/talks/tcsplus15.pdf)\n",
    "- [five](https://arxiv.org/pdf/1511.04032.pdf), [six](http://www.cs.tau.ac.il/~fiat/cgt12/walras.pdf)\n",
    "- [seven](http://darp.lse.ac.uk/presentations/MP2Book/OUP/ConsumerOptimisation.pdf)\n",
    "\n",
    "Our agents are assigned preferences and endowments at the start of the game."
   ]
  },
  {
   "cell_type": "markdown",
   "metadata": {},
   "source": [
    "Let:\n",
    "\n",
    "- $n$: number of agents.\n",
    "- $I := \\{1, \\dots, n\\}$\n",
    "- $m$: number of goods.\n",
    "- $G := \\{1, \\dots, m\\}$\n",
    "- $\\mathbf{e} = \\langle\\mathbf{e}^1, \\dots, \\mathbf{e}^n\\rangle$: list of good endowment vectors, one for each agent.\n",
    "- $\\mathbf{e}^i = \\langle e^i_1, \\dots, e^i_m\\rangle$: list of good endowments for agent $i$.\n",
    "- $\\mathbf{s} = \\langle \\mathbf{s}^1, \\dots, \\mathbf{s}^n \\rangle$: a list of utility function params vectors, one for each agent.\n",
    "- $\\mathbf{s}^i = \\langle s^i_1, \\dots, s^i_m \\rangle$: a list of utility function params, one for each good, for agent $i$.\n",
    "- $\\mathbf{x} = \\langle \\mathbf{x}^1, \\dots, \\mathbf{x}^n \\rangle$: a list of good holding vectors, one for each agent.\n",
    "- $\\mathbf{x}^i = \\langle x^i_1, \\dots, x^i_m \\rangle$: a list of good holdings, one for each good, for agent $i$.\n",
    "- $\\mathbf{p} = \\langle p_1, \\dots, p_m \\rangle$: a list of prices, one for each good.\n",
    "- $\\mathbf{c} = \\langle c^i, \\dots, c^n \\rangle$: list of money endowments, one for each agent.\n",
    "- $\\mathbf{f} = \\langle f^1, \\dots, f^n\\rangle$: list of money holdings, one for each agent.\n",
    "- $f^i, c^i, x^i_j, s^i_j, e^i_j$ are non-negative reals."
   ]
  },
  {
   "cell_type": "markdown",
   "metadata": {},
   "source": [
    "Option 1 (Good Part is Step Function): Utility of agent $i$ is defined as:\n",
    "\n",
    "$\n",
    "\\begin{equation}\n",
    "u(f^i, \\mathbf{x}^i; \\mathbf{s}^i) = f^i + \\sum_{j \\in G} \\mathbb{1}\\left(x^i_j > 0 \\right) s^i_j\n",
    "\\end{equation}\n",
    "$"
   ]
  },
  {
   "cell_type": "markdown",
   "metadata": {},
   "source": [
    "Option 2 (Good Part is Perfect Substitutes): Utility of agent $i$ is defined as:\n",
    "\n",
    "$\n",
    "\\begin{equation}\n",
    "u(f^i, \\mathbf{x}^i; \\mathbf{s}^i) = f^i + \\sum_{j \\in G} x^i_j s^i_j\n",
    "\\end{equation}\n",
    "$"
   ]
  },
  {
   "cell_type": "markdown",
   "metadata": {},
   "source": [
    "Option 3 (Good Part is Transformed Cobb-Douglas): Utility of agent $i$ is defined as:\n",
    "\n",
    "$\n",
    "\\begin{equation}\n",
    "u(f^i, \\mathbf{x}^i; \\mathbf{s}^i) = f^i + \\sum_{j \\in G} s^i_j \\ln \\left(x^i_j\\right) \n",
    "\\end{equation}\n",
    "$\n",
    "and \n",
    "$\n",
    "\\begin{equation}\n",
    "\\sum_{j \\in G} s^i_j = 1\n",
    "\\end{equation}\n",
    "$\n",
    "and\n",
    "$s^i_j > 0$"
   ]
  },
  {
   "cell_type": "markdown",
   "metadata": {},
   "source": [
    "For the agent optimization problem to have a unique solution the agent's utility needs to satisfy:\n",
    "- (A1) $u(\\cdot)$ is continuous in all its arguments\n",
    "- (A2) $u(\\cdot)$ is increasing, that is $u(f^i, \\tilde{\\mathbf{x}}^i; \\mathbf{s}^i) > u(f^i, \\mathbf{x}^i; \\mathbf{s}^i)$ whenever $u(f^i, \\tilde{\\mathbf{x}}^i; \\mathbf{s}^i) >> u(f^i, \\mathbf{x}^i; \\mathbf{s}^i)$.\n",
    "- (A3) $u(\\cdot)$ is concave\n",
    "\n",
    "For Option 1 these are not all satisfied, for option 2 & 3 they are all satisfied."
   ]
  },
  {
   "cell_type": "markdown",
   "metadata": {},
   "source": [
    "## Agent Optimization Problem"
   ]
  },
  {
   "cell_type": "markdown",
   "metadata": {},
   "source": [
    "An agent faces the following optimization problem (taking prices as given):\n",
    "\n",
    "$\n",
    "\\begin{equation}\n",
    "\\max_{f^i, \\mathbf{x}^i} u\\left(f^i, \\mathbf{x}^i; \\mathbf{s}^i\\right) \\text{s.t. } \\sum_{j \\in G} p_j x^i_j + f^i\\leq \\sum_{j \\in G} p_je^i_j + c^i\n",
    "\\end{equation}\n",
    "$"
   ]
  },
  {
   "cell_type": "markdown",
   "metadata": {},
   "source": [
    "The Lagrangian of this problem is:\n",
    "\n",
    "$\n",
    "\\begin{equation}\n",
    "L = u\\left(f^i, \\mathbf{x}^i; \\mathbf{s}^i\\right) + \\lambda \\left(\\sum_{j \\in G} p_j e^i_j + c^i - \\sum_{j \\in G} p_j x^i_j - f^i \\right)\n",
    "\\end{equation}\n",
    "$\n",
    "\n",
    "And the $m+2$ first order conditions are:\n",
    "\n",
    "$\n",
    "\\begin{equation}\n",
    "\\frac{\\delta u\\left(f^i, \\mathbf{x}^i; \\mathbf{s}^i\\right)}{\\delta x_j^i}- \\lambda p_j = 0 % s_j^i - \\lambda p_j = 0\n",
    "\\end{equation}\n",
    "$\n",
    "and\n",
    "$\n",
    "\\begin{equation}\n",
    "\\frac{\\delta u\\left(f^i, \\mathbf{x}^i; \\mathbf{s}^i\\right)}{\\delta f^i}- \\lambda = 0\n",
    "\\end{equation}\n",
    "$\n",
    "and\n",
    "$\n",
    "\\begin{equation}\n",
    "\\sum_{j \\in G} p_j e^i_j + c^i - \\sum_{j \\in G} p_j x^i_j - f^i = 0\n",
    "\\end{equation}\n",
    "$\n",
    "\n",
    "This then allows derivation of demand functions $x^{i,\\ast}_j(\\mathbf{p}, \\mathbf{e}^i, c^i)$ for $j \\in G$ and $f^{i,\\ast}(\\mathbf{p}, \\mathbf{e}^i, c^i)$."
   ]
  },
  {
   "cell_type": "markdown",
   "metadata": {},
   "source": [
    "## Competitive Equilibrium"
   ]
  },
  {
   "cell_type": "markdown",
   "metadata": {},
   "source": [
    "An equilibrium is a consumption bundle for each agent $\\mathbf{x}^1,\\dots,\\mathbf{x}^n$ and price $\\mathbf{p}$ such that\n",
    "\n",
    "- 1) feasibility: the allocation is feasible, that is $\\forall j \\in G$ we have $\\sum_{i \\in I} x_j^i = \\sum_{i \\in I} e_j^i$ and $\\sum_{i \\in I} f^i = \\sum_{i \\in I} c^i$.\n",
    "- 2) optimality: the consumption bundle solves the agent's optimization problem, given prices and initial endowments: $x_j^{i,\\ast}\\left(\\mathbf{p},\\mathbf{e}^i, c^i\\right) = x_j^i$ and $f^{i,\\ast}\\left(\\mathbf{p},\\mathbf{e}^i, c^i\\right) = f^i$."
   ]
  },
  {
   "cell_type": "markdown",
   "metadata": {},
   "source": [
    "There exists a simple algorithm to find the competitive equilibrium:\n",
    "\n",
    "- 1. solve the optimization problem for each consumer to get their excess demand as a function of prices and endowments:  $z_j^{i,\\ast}\\left(\\mathbf{p},\\mathbf{e}^i\\right) = x_j^{i,\\ast}\\left(\\mathbf{p},\\mathbf{e}^i, c^i\\right) - e_j^i$ for each $j \\in G$ and $z_f^{i,\\ast}\\left(\\mathbf{p},\\mathbf{e}^i, c^i\\right) = f^{i,\\ast}\\left(\\mathbf{p},\\mathbf{e}^i, c^i\\right) - m^i$\n",
    "- 2. find a price s.t. net demand for each good in economy is zero: $\\sum_{i \\in I} z_j^{i,\\ast}\\left(\\mathbf{p},\\mathbf{e}^i, c^i\\right) = 0$ for each $j \\in G$ and $\\sum_{i \\in I} z_f^{i,\\ast}\\left(\\mathbf{p},\\mathbf{e}^i, c^i\\right) = 0$"
   ]
  },
  {
   "cell_type": "markdown",
   "metadata": {},
   "source": [
    "Intuitively: the agent's sell their endowments $\\mathbf{e}^i$ at market prices $\\mathbf{p}$ and then buy the best bundle they can afford. Note, the price of money is explicitly set as $1$."
   ]
  },
  {
   "cell_type": "markdown",
   "metadata": {},
   "source": [
    "Properties of the competitive equilibrium (here with no money):\n",
    "\n",
    "- Existence: Consider an economy which satisfies $A1-A4$, then there exists a CE $\\left(\\mathbf{p},\\left(\\mathbf{x}^i\\right)_{i \\in I}\\right)$.\n",
    "- Uniqueness: The CE is not in general unique.\n",
    "- Stability (do reasonable dynamic adjustment processes converge to CE): Not in general.\n",
    "- First Welfare Theorem: Let $\\left(\\mathbf{p},\\left(\\mathbf{x}^i\\right)_{i \\in I}\\right)$ be a CE, then (given A2 holds) $\\left(\\mathbf{x}^i\\right)_{i \\in I}$ is Pareto optimal. This means, we cannot make any agent better off without making another agent worse off.\n",
    "- Second Welfare Theorem: Consider an economy which satisfies $A1-A4$. If $\\left(\\mathbf{x}^i\\right)_{i \\in I}$ is Pareto optimal then there exists a $\\mathbf{p}$ such that $\\left(\\mathbf{p},\\left(\\mathbf{x}^i\\right)_{i \\in I}\\right)$ is a CE. This means, we can achieve any Pareto optimal allocation with some price vector (potentially requiring redistribution of endowments).\n",
    "\n",
    "where\n",
    "- A4: $\\mathbf{e}^i >> 0$"
   ]
  },
  {
   "cell_type": "markdown",
   "metadata": {},
   "source": [
    "However, there exists a subclass of utility functions which satisfy the gross-substitues property and as a result guarantee a unique equilibrium.\n",
    "\n",
    "Option 3 falls into that class."
   ]
  },
  {
   "cell_type": "markdown",
   "metadata": {},
   "source": [
    "## Our Game (with money)"
   ]
  },
  {
   "cell_type": "markdown",
   "metadata": {},
   "source": [
    "We take Option 3 and we slightly adjust the utility function with a scalling factor $t$:\n",
    "$\n",
    "\\begin{equation}\n",
    "u(f^i, \\mathbf{x}^i, \\mathbf{s}^i) = f^i + \\sum_{j \\in G} t * s^i_j \\ln \\left(x^i_j\\right) \n",
    "\\end{equation}\n",
    "$"
   ]
  },
  {
   "cell_type": "markdown",
   "metadata": {},
   "source": [
    "Then it can be shown that the agent's demand functions are\n",
    "$\n",
    "\\begin{equation}\n",
    "x^{i,\\ast}_j(\\mathbf{p}, \\mathbf{e}^i) = \\frac{s_j^{i} * t}{p_j}\n",
    "\\end{equation}\n",
    "$\n",
    "for $j \\in G$ and \n",
    "$\n",
    "\\begin{equation}\n",
    "f^{i,\\ast}(\\mathbf{p}, \\mathbf{e}^i) = \\sum_{j \\in G} p_j e^i_j + c^i - t\n",
    "\\end{equation}\n",
    "$\n",
    "excess demand functions are\n",
    "$\n",
    "\\begin{equation}\n",
    "z^{i,\\ast}_j(\\mathbf{p}, \\mathbf{e}^i) = \\frac{s_j^{i} * t}{p_j} - e_j^i\n",
    "\\end{equation}\n",
    "$\n",
    "for $j \\in G$ and \n",
    "$\n",
    "\\begin{equation}\n",
    "f^{i,\\ast}(\\mathbf{p}, \\mathbf{e}^i) = \\sum_{k \\in G} p_j e^i_j - t\n",
    "\\end{equation}\n",
    "$"
   ]
  },
  {
   "cell_type": "markdown",
   "metadata": {},
   "source": [
    "And therefore\n",
    "$\n",
    "\\begin{equation}\n",
    "p_j = t\\frac{\\sum_{i \\in I} s^i_j}{\\sum_{i \\in I} e^i_j},\n",
    "\\end{equation}\n",
    "$\n",
    "and\n",
    "$\n",
    "\\begin{equation}\n",
    "x_j^i = \\frac{s^i_j \\sum_{i \\in I} e^i_j }{\\sum_{i \\in I} s^i_j},\n",
    "\\end{equation}\n",
    "$\n",
    "and\n",
    "$\n",
    "\\begin{equation}\n",
    "f^i = t\\sum_{j \\in G}\\frac{\\sum_{i \\in I} s^i_j}{\\sum_{i \\in I} e^i_j}e_j^i +c^i - t ,\n",
    "\\end{equation}\n",
    "$"
   ]
  },
  {
   "cell_type": "markdown",
   "metadata": {},
   "source": [
    "## Our Game (with no money)"
   ]
  },
  {
   "cell_type": "markdown",
   "metadata": {},
   "source": [
    "Set $f^i = m^i = 0$ for all $i \\in I$."
   ]
  },
  {
   "cell_type": "markdown",
   "metadata": {},
   "source": [
    "We take Option 3. Then it can be shown that the agent's demand functions are\n",
    "$\n",
    "\\begin{equation}\n",
    "x^{i,\\ast}_j(\\mathbf{p}, \\mathbf{e}^i) = \\frac{s_j^{i}}{p_j}\\sum_{k \\in G} p_k e^i_k\n",
    "\\end{equation}\n",
    "$\n",
    "for $j \\in G$ and \n",
    "excess demand functions are\n",
    "$\n",
    "\\begin{equation}\n",
    "z^{i,\\ast}_j(\\mathbf{p}, \\mathbf{e}^i) = \\frac{s_j^{i}}{p_j}\\sum_{k \\in G} p_k e^i_k - e_j^i\n",
    "\\end{equation}\n",
    "$"
   ]
  },
  {
   "cell_type": "markdown",
   "metadata": {},
   "source": [
    "We therefore have the zero net demand for $j$ condition given by:\n",
    "$\n",
    "\\begin{equation}\n",
    "\\sum_{i \\in I} \\frac{s_j^{i}}{p_j}\\sum_{k \\in G} p_k e^i_k - \\sum_{i \\in I} e_j^i = 0\n",
    "\\end{equation}\n",
    "$\n",
    "which is homogenous of degree zero. Hence, we can set $p_1 = 1 w.l.o.g$.\n",
    "Then for $j \\neq 1$ we have the following set of linear equations\n",
    "\n",
    "$\n",
    "\\begin{equation}\n",
    "p_j \\sum_{i \\in I}\\left(s_j^i - 1\\right)e_j^i + \\sum_{k \\in G \\backslash \\{j\\}} p_k \\sum_{i \\in I} s_j^ie_k^i = 0\n",
    "\\end{equation}\n",
    "$"
   ]
  },
  {
   "cell_type": "markdown",
   "metadata": {},
   "source": [
    "Hence, we have $m \\times m$ matrix\n",
    "\n",
    "$\n",
    "\\mathbf{A} = \n",
    "\\begin{bmatrix} \n",
    "\\sum_{i\\in I}\\left(s_1^i-1\\right)e_1^i & \\sum_{i \\in I}s_1^i e_2^i & ... & \\sum_{i \\in I}s_1^i e_m^i \\\\\n",
    "\\sum_{i \\in I}s_2^i e_1^i & \\sum_{i\\in I}\\left(s_2^i-1\\right)e_2^i & ... & \\sum_{i \\in I}s_2^i e_m^i \\\\\n",
    "... & ... & ... & ... \\\\\n",
    "\\sum_{i \\in I}s_m^i e_1^i & \\sum_{i \\in I}s_m^i e_2^i & ... & \\sum_{i\\in I}\\left(s_m^i-1\\right)e_m^i \\\\\n",
    "\\end{bmatrix} = \n",
    "\\begin{bmatrix} \n",
    "\\left(\\mathbf{s}_1-\\mathbf{1}\\right)^{T}\\mathbf{e}_1 & \\mathbf{s}_1^{T} \\mathbf{e}_2 & ... & \\mathbf{s}_1^{T} \\mathbf{e}_m \\\\\n",
    "\\mathbf{s}_2^{T} \\mathbf{e}_1 & \\left(\\mathbf{s}_2-\\mathbf{1}\\right)^{T}\\mathbf{e}_2 & ... & \\mathbf{s}_2^{T} \\mathbf{e}_m \\\\\n",
    "... & ... & ... & ... \\\\\n",
    "\\mathbf{s}_m^{T} \\mathbf{e}_1 & \\mathbf{s}_m^{T} \\mathbf{e}_2 & ... & \\left(\\mathbf{s}_m-\\mathbf{1}\\right)^{T}\\mathbf{e}_m \\\\\n",
    "\\end{bmatrix}\n",
    "$\n",
    "\n",
    "and $m \\times 1$ matrix/vector\n",
    "\n",
    "$\n",
    "\\mathbf{p} = \n",
    "\\begin{bmatrix} \n",
    "p_1 \\\\\n",
    "... \\\\\n",
    "p_m \\\\\n",
    "\\end{bmatrix}\n",
    "$\n",
    "\n",
    "and system\n",
    "\n",
    "$\n",
    "\\mathbf{A} \\mathbf{p} = \\mathbf{0}\n",
    "$\n",
    "\n",
    "where $\\mathbf{0}$ denotes an $m \\times 1$ vector of zeros."
   ]
  },
  {
   "cell_type": "markdown",
   "metadata": {},
   "source": [
    "So we have a homegenous system of linear equations. Importantly, if there is a solution to the system other than $\\mathbf{p} = \\mathbf{0}$, then there are inifinitely many such solutions. We can fix one by setting $p_1=1$ and solve."
   ]
  },
  {
   "cell_type": "markdown",
   "metadata": {},
   "source": [
    "## Python Implementation"
   ]
  },
  {
   "cell_type": "code",
   "execution_count": 1,
   "metadata": {},
   "outputs": [],
   "source": [
    "import pprint\n",
    "import random\n",
    "from typing import List\n",
    "import math\n",
    "import numpy as np\n",
    "\n",
    "\n",
    "nb_agents = 10\n",
    "nb_goods = 7\n",
    "initial_money_endowment = 200\n",
    "uniform_lower_bound_factor = 2\n",
    "uniform_upper_bound_factor = 10\n",
    "scaling_factor = 100.0"
   ]
  },
  {
   "cell_type": "code",
   "execution_count": 2,
   "metadata": {},
   "outputs": [
    {
     "name": "stdout",
     "output_type": "stream",
     "text": [
      "Utility function params shape:  10 x 7\n",
      "Utility function params:  [[0.2097, 0.0538, 0.2016, 0.1559, 0.1263, 0.0941, 0.1586],\n",
      " [0.0782, 0.1536, 0.1779, 0.062, 0.159, 0.1402, 0.2291],\n",
      " [0.2915, 0.1818, 0.0251, 0.0219, 0.1348, 0.0627, 0.2822],\n",
      " [0.0606, 0.1212, 0.1732, 0.0346, 0.1472, 0.0476, 0.4156],\n",
      " [0.2547, 0.2708, 0.0188, 0.1314, 0.1233, 0.0992, 0.1018],\n",
      " [0.0435, 0.2364, 0.1685, 0.2582, 0.0924, 0.087, 0.114],\n",
      " [0.1356, 0.1751, 0.0113, 0.2034, 0.1751, 0.1102, 0.1893],\n",
      " [0.1793, 0.0091, 0.2736, 0.076, 0.2553, 0.1216, 0.0851],\n",
      " [0.0856, 0.2443, 0.0756, 0.0806, 0.068, 0.2091, 0.2368],\n",
      " [0.0522, 0.1915, 0.1642, 0.1269, 0.1891, 0.1144, 0.1617]]\n"
     ]
    }
   ],
   "source": [
    "def _sample_utility_function_params(nb_goods: int, nb_agents: int) -> List[List[float]]:\n",
    "    \"\"\"\n",
    "    Sample utility function params for each agent.\n",
    "    :param nb_goods: the number of goods\n",
    "    :param nb_agents: the number of agents\n",
    "    :return: a matrix with utility function params for each agent\n",
    "    \"\"\"\n",
    "    decimals = 4 if nb_goods < 100 else 8\n",
    "    utility_function_params = []\n",
    "    for i in range(nb_agents):\n",
    "        random_integers = [random.randint(1,101) for _ in range(nb_goods)]\n",
    "        total = sum(random_integers)\n",
    "        normalized_fractions = [ round(i / float(total), decimals) for i in random_integers]\n",
    "        if not sum(normalized_fractions) == 1.0:\n",
    "            normalized_fractions[-1] = round(1.0 - sum(normalized_fractions[0:-1]), decimals)\n",
    "        utility_function_params.append(normalized_fractions)\n",
    "    return utility_function_params\n",
    "\n",
    "def _test_sample_utility_function_params(utility_function_params: List[List[float]]) -> None:\n",
    "    decimals = 4 if len(utility_function_params[0]) < 100 else 8\n",
    "    for row in utility_function_params:\n",
    "        assert(round(sum(row), decimals) == 1.0)\n",
    "\n",
    "utility_function_params = _sample_utility_function_params(nb_goods, nb_agents)\n",
    "_test_sample_utility_function_params(utility_function_params)\n",
    "print(\"Utility function params shape: \", str(len(utility_function_params)) + ' x ' + str(len(utility_function_params[0])))\n",
    "print(\"Utility function params: \", pprint.pformat(utility_function_params))"
   ]
  },
  {
   "cell_type": "code",
   "execution_count": 3,
   "metadata": {},
   "outputs": [
    {
     "name": "stdout",
     "output_type": "stream",
     "text": [
      "Utility of first agent from random bundle:  1.6487598817745486, [9, 3, 8, 6, 4, 1, 5]\n"
     ]
    }
   ],
   "source": [
    "def utility(utility_function_params: List[float], good_bundle: List[int]) -> float:\n",
    "    \"\"\"\n",
    "    Compute agent's utility given her utilit function params and a good bundle.\n",
    "    :param utility_function_params: utility function params of the agent\n",
    "    :param good_bundle: a bundle of goods with the quantitity for each good\n",
    "    :return: utility value\n",
    "    \"\"\"\n",
    "    goodwise_utility = [param * math.log(quantity) for param, quantity in zip(utility_function_params, good_bundle)]\n",
    "    return sum(goodwise_utility)\n",
    "\n",
    "random_bundle = [random.randint(1,10) for _ in range(nb_goods)]\n",
    "utility = utility(utility_function_params[0], random_bundle)\n",
    "print(\"Utility of first agent from random bundle: \", str(utility) + ', ' + pprint.pformat(random_bundle)) "
   ]
  },
  {
   "cell_type": "code",
   "execution_count": 4,
   "metadata": {},
   "outputs": [
    {
     "name": "stdout",
     "output_type": "stream",
     "text": [
      "Endowments: \n",
      "[[ 1  3  8  4 10  9  6]\n",
      " [ 2  2  8  7  7  5  5]\n",
      " [ 4  8 10  5  3  5  4]\n",
      " [ 3  8  4  6  7  6  2]\n",
      " [ 4  2 11 10  6  8  3]\n",
      " [ 5  6 12  3 17  9  4]\n",
      " [ 4  8  8  2 17 10  4]\n",
      " [ 3  4  7  5 10  6  4]\n",
      " [ 7  2 11  5  4  5  2]\n",
      " [ 5  5 10  3  9  8  2]]\n"
     ]
    }
   ],
   "source": [
    "def _sample_good_instances(nb_agents: int, uniform_lower_bound_factor: int, uniform_upper_bound_factor: int) -> int:\n",
    "    \"\"\"\n",
    "    Sample the number of instances for a good.\n",
    "    :param nb_agents: the number of agents\n",
    "    :param uniform_lower_bound_factor: the lower bound factor of a uniform distribution\n",
    "    :param uniform_upper_bound_factor: the upper bound factor of a uniform distribution\n",
    "    :return: the number of instances I sampled.\n",
    "    \"\"\"\n",
    "    a = nb_agents + nb_agents * uniform_lower_bound_factor\n",
    "    b = nb_agents + nb_agents * uniform_upper_bound_factor\n",
    "    # Return random integer in range [a, b]\n",
    "    nb_instances = [round(np.random.uniform(a, b)) for _ in range(nb_goods)]\n",
    "    return nb_instances\n",
    "\n",
    "def _generate_endowments(nb_goods: int, nb_agents: int, uniform_lower_bound_factor: int, uniform_upper_bound_factor: int) -> List[List[int]]:\n",
    "    # sample good instances\n",
    "    instances_per_good = _sample_good_instances(nb_agents, uniform_lower_bound_factor, uniform_upper_bound_factor)\n",
    "    # each agent receives at least one good\n",
    "    endowments = [[1] * nb_goods for _ in range(nb_agents)]\n",
    "    # randomly assign additional goods to create differences\n",
    "    for good_id in range(nb_goods):\n",
    "        for _ in range(instances_per_good[good_id] - nb_agents):\n",
    "            agent_id = random.randint(0, nb_agents - 1)\n",
    "            endowments[agent_id][good_id] += 1\n",
    "    return endowments\n",
    "\n",
    "endowments = _generate_endowments(nb_goods, nb_agents, uniform_lower_bound_factor, uniform_upper_bound_factor)\n",
    "print(\"Endowments: \")\n",
    "print(np.asarray(endowments))"
   ]
  },
  {
   "cell_type": "markdown",
   "metadata": {},
   "source": [
    "### Money"
   ]
  },
  {
   "cell_type": "code",
   "execution_count": 5,
   "metadata": {},
   "outputs": [],
   "source": [
    "def _compute_competitive_equilibrium_money(endowments: List[List[int]], utility_function_params: List[List[float]], scaling_factor: float, initial_money_endowment: float) -> (List[float], List[int]):\n",
    "    \"\"\"\n",
    "    Computes the competitive equilibrium prices and allocation, assuming money.\n",
    "    \"\"\"\n",
    "    endowments_a = np.array(endowments, dtype=np.int)\n",
    "    scaled_utility_function_params_a = np.array(utility_function_params, dtype=np.float) * scaling_factor\n",
    "    endowments_by_good = np.sum(endowments_a, axis=0)\n",
    "    scaled_params_by_good = np.sum(scaled_utility_function_params_a, axis=0)\n",
    "    eq_prices = np.divide(scaled_params_by_good, endowments_by_good)\n",
    "    eq_allocation = np.divide(scaled_utility_function_params_a, eq_prices)\n",
    "    eq_money = np.transpose(np.dot(eq_prices, np.transpose(endowments_a))) + initial_money_endowment - scaling_factor\n",
    "    return eq_prices, eq_allocation, eq_money\n",
    "    "
   ]
  },
  {
   "cell_type": "code",
   "execution_count": 6,
   "metadata": {},
   "outputs": [
    {
     "data": {
      "text/plain": [
       "array([3.66026316, 3.41166667, 1.44921348, 2.3018    , 1.63388889,\n",
       "       1.52971831, 5.48388889])"
      ]
     },
     "execution_count": 6,
     "metadata": {},
     "output_type": "execute_result"
    }
   ],
   "source": [
    "eq_prices, eq_allocation, eq_money = _compute_competitive_equilibrium_money(endowments,utility_function_params, scaling_factor, initial_money_endowment)\n",
    "eq_prices"
   ]
  },
  {
   "cell_type": "code",
   "execution_count": 7,
   "metadata": {},
   "outputs": [
    {
     "data": {
      "text/plain": [
       "array([[ 5.72909627,  1.57694187, 13.91099395,  6.77296029,  7.7300238 ,\n",
       "         6.15145935,  2.8921082 ],\n",
       "       [ 2.13645841,  4.50219834, 12.27562413,  2.69354418,  9.73138388,\n",
       "         9.16508609,  4.17769223],\n",
       "       [ 7.96390826,  5.32877382,  1.73197395,  0.95142932,  8.25025502,\n",
       "         4.09879385,  5.14598318],\n",
       "       [ 1.65561866,  3.55251588, 11.95131028,  1.50317143,  9.00918055,\n",
       "         3.11168401,  7.57856347],\n",
       "       [ 6.95851607,  7.93746947,  1.29725539,  5.7085759 ,  7.54641278,\n",
       "         6.48485407,  1.85634687],\n",
       "       [ 1.18843914,  6.92916463, 11.62699643, 11.21730819,  5.65521931,\n",
       "         5.68732161,  2.07881674],\n",
       "       [ 3.70465166,  5.13238886,  0.77973329,  8.83656269, 10.71676301,\n",
       "         7.20394071,  3.4519299 ],\n",
       "       [ 4.89855489,  0.2667318 , 18.87920608,  3.30176384, 15.62529752,\n",
       "         7.94917595,  1.55181846],\n",
       "       [ 2.33862966,  7.16072301,  5.21662273,  3.50160744,  4.16184971,\n",
       "        13.66918332,  4.31810354],\n",
       "       [ 1.42612697,  5.61309233, 11.33028376,  5.51307672, 11.57361442,\n",
       "         7.47850106,  2.94863742]])"
      ]
     },
     "execution_count": 7,
     "metadata": {},
     "output_type": "execute_result"
    }
   ],
   "source": [
    "eq_allocation"
   ]
  },
  {
   "cell_type": "code",
   "execution_count": 8,
   "metadata": {},
   "outputs": [
    {
     "data": {
      "text/plain": [
       "array([197.70585803, 188.35542573, 202.42133457, 189.4650866 ,\n",
       "       198.91648076, 226.54640904, 223.1405436 , 193.73370483,\n",
       "       185.04744864, 194.66770821])"
      ]
     },
     "execution_count": 8,
     "metadata": {},
     "output_type": "execute_result"
    }
   ],
   "source": [
    "eq_money"
   ]
  },
  {
   "cell_type": "code",
   "execution_count": 9,
   "metadata": {},
   "outputs": [],
   "source": [
    "def _test_compute_competitive_equilibrium_money(endowments: List[List[int]], utility_function_params: List[List[float]], scaling_factor: float, initial_money_endowment: float) -> None:\n",
    "    \"\"\"\n",
    "    \"\"\"\n",
    "    endowments_by_good = np.sum(np.array(endowments, dtype=np.int), axis=0)\n",
    "    eq_prices, eq_allocation, eq_money = _compute_competitive_equilibrium_money(endowments,utility_function_params, scaling_factor, initial_money_endowment)\n",
    "    eq_allocation_by_good = np.sum(eq_allocation, axis=0)\n",
    "    assert(np.allclose(endowments_by_good, eq_allocation_by_good))\n",
    "    assert(np.allclose(len(endowments) * initial_money_endowment, np.sum(eq_money)))\n",
    "\n",
    "_test_compute_competitive_equilibrium_money(endowments, utility_function_params, scaling_factor, initial_money_endowment)"
   ]
  },
  {
   "cell_type": "markdown",
   "metadata": {},
   "source": [
    "### No money"
   ]
  },
  {
   "cell_type": "code",
   "execution_count": 10,
   "metadata": {},
   "outputs": [
    {
     "name": "stdout",
     "output_type": "stream",
     "text": [
      "Equilibrium price vector:  [1.0,\n",
      " 0.946473623316515,\n",
      " 0.3854092143351715,\n",
      " 0.6693217271161809,\n",
      " 0.4443031515759867,\n",
      " 0.4101224403974965,\n",
      " 1.4659054106775224]\n",
      "Equilibrium allocation:  array([[ 5.5632461 ,  1.50800785, 13.87708587,  6.17932495,  7.54143163,\n",
      "         6.08703686,  2.87029858],\n",
      "       [ 1.88866563,  3.9195032 , 11.14813394,  2.23720144,  8.64303067,\n",
      "         8.25624941,  3.77456983],\n",
      "       [ 8.16772304,  5.38205098,  1.82479495,  0.91679373,  8.50105727,\n",
      "         4.28367439,  5.39403183],\n",
      "       [ 1.49270064,  3.15423611, 11.06944606,  1.27333088,  8.16072063,\n",
      "         2.85886412,  6.98344449],\n",
      "       [ 6.92024498,  7.77378757,  1.32534297,  5.33399945,  7.5400844 ,\n",
      "         6.57189572,  1.88683687],\n",
      "       [ 1.49725237,  8.59695609, 15.04816566, 13.27782886,  7.15810936,\n",
      "         7.30148961,  2.67673055],\n",
      "       [ 4.5441873 ,  6.19974983,  0.98254598, 10.18386327, 13.2069729 ,\n",
      "         9.00460354,  4.32754109],\n",
      "       [ 4.58967755,  0.24611312, 18.17171366,  2.90656845, 14.70866668,\n",
      "         7.58965312,  1.48602288],\n",
      "       [ 1.98923211,  5.9982788 ,  4.55838915,  2.79841303,  3.5566507 ,\n",
      "        11.84819508,  3.75394103],\n",
      "       [ 1.34707028,  5.22131646, 10.99438174,  4.89267594, 10.98327577,\n",
      "         7.19833815,  2.84658283]])\n"
     ]
    }
   ],
   "source": [
    "def _construct_A(endowments: List[List[int]], utility_function_params: List[List[float]]) -> List[List[float]]:\n",
    "    nb_agents = len(endowments)\n",
    "    nb_goods = len(endowments[0])\n",
    "    endowments_a = np.array(endowments, dtype=np.int)\n",
    "    params_a = np.array(utility_function_params, dtype=np.float)\n",
    "    A = np.zeros((nb_goods, nb_goods), dtype=np.float)\n",
    "    for j in range(nb_goods):\n",
    "        for k in range(nb_goods):\n",
    "            if k == j:\n",
    "                adjusted = params_a[:,j] - np.ones(nb_agents, dtype=np.float)\n",
    "                val = np.inner(adjusted, endowments_a[:,k])\n",
    "            else:\n",
    "                val = np.inner(params_a[:,j], endowments_a[:,k])\n",
    "            A[j, k] = val\n",
    "    return A\n",
    "\n",
    "# def _null_space(A, eps=1e-15):\n",
    "#     u, s, vh = np.linalg.svd(A)\n",
    "#     null_space = np.compress(s <= eps, vh, axis=0)\n",
    "#     return null_space.T\n",
    "\n",
    "\n",
    "def _compute_competitive_equilibrium(endowments: List[List[int]], utility_function_params: List[List[float]]) -> (List[float], List[int]):\n",
    "    \"\"\"\n",
    "    Computes the competitive equilibrium prices and allocation, assuming no money.\n",
    "    \"\"\"\n",
    "    A = np.array(_construct_A(endowments, utility_function_params), dtype=np.float)\n",
    "    b = np.zeros(nb_goods, dtype=np.float)\n",
    "    # set first price to 1\n",
    "    b_new = - A[1:, 0]\n",
    "    A_new = np.delete(np.delete(A, 0, axis=1), 0, axis=0)\n",
    "    #     u, s, vh = np.linalg.svd(A)\n",
    "    #     p = np.dot(A, vh[-1])\n",
    "    p = np.linalg.solve(A_new, b_new)\n",
    "    #     det_A = np.linalg.det(A)\n",
    "    #     p = [0.0 for _ in range(len(endowments))]\n",
    "    #     for i in range(len(endowments)):\n",
    "    #         A_i = np.copy(A)\n",
    "    #         A_i[:, i] =  0\n",
    "    #         # apply Cramer's Rule\n",
    "    #         det_A_i = np.linalg.det(A_i)\n",
    "    #         p[i] = det_A_i / det_A\n",
    "    endowments_a = np.array(endowments, dtype=np.int)\n",
    "    params_a = np.array(utility_function_params, dtype=np.float)\n",
    "    eq_price = list(np.append(np.array(1, dtype=np.float),p))\n",
    "    eq_allocation = np.zeros((len(endowments), len(endowments[0])), dtype=np.float)\n",
    "    for i in range(len(endowments)):\n",
    "        for j in range(len(endowments[0])):\n",
    "            eq_allocation[i, j] = (params_a[i, j] / eq_price[j]) * np.inner(eq_price, endowments_a[i,:])\n",
    "    return eq_price, eq_allocation\n",
    "\n",
    "\n",
    "def _test_construct_A():\n",
    "    endowments = [[1, 3],[2, 1]]\n",
    "    utility_function_params = [[round(1/float(3), 4), round(2/float(3), 4)], [round(2/float(3), 4), round(1/float(3), 4)]]\n",
    "    return _construct_A(endowments, utility_function_params)\n",
    "    \n",
    "def _test_compute_competitive_equilibrium(endowments: int, utility_function_params: int, eps=1e-10) -> None:\n",
    "    #     endowments = [[1, 3],[2, 1]]\n",
    "    #     utility_function_params = [[round(1/float(3), 4), round(2/float(3), 4)], [round(2/float(3), 4), round(1/float(3), 4)]]\n",
    "    p, al = _compute_competitive_equilibrium(endowments,utility_function_params)\n",
    "    A = np.array(_construct_A(endowments, utility_function_params), dtype=np.float)\n",
    "    b = np.dot(A, p)\n",
    "    endowments_a = np.array(endowments, dtype=np.int)\n",
    "    # price must be a solution to the linear system of equations\n",
    "    assert(np.allclose(b, np.zeros(len(endowments[0]), dtype=np.float)))\n",
    "    # the final allocations must be feasible\n",
    "    assert(np.allclose(np.sum(al, axis=0), np.sum(endowments_a, axis=0)))\n",
    "    \n",
    "eq_price, eq_allocation = _compute_competitive_equilibrium(endowments,utility_function_params)\n",
    "\n",
    "print(\"Equilibrium price vector: \", pprint.pformat(eq_price))\n",
    "print(\"Equilibrium allocation: \", pprint.pformat(eq_allocation))\n",
    "_test_compute_competitive_equilibrium(endowments,utility_function_params)"
   ]
  },
  {
   "cell_type": "code",
   "execution_count": null,
   "metadata": {},
   "outputs": [],
   "source": []
  }
 ],
 "metadata": {
  "kernelspec": {
   "display_name": "Python 3",
   "language": "python",
   "name": "python3"
  },
  "language_info": {
   "codemirror_mode": {
    "name": "ipython",
    "version": 3
   },
   "file_extension": ".py",
   "mimetype": "text/x-python",
   "name": "python",
   "nbconvert_exporter": "python",
   "pygments_lexer": "ipython3",
   "version": "3.7.2"
  }
 },
 "nbformat": 4,
 "nbformat_minor": 2
}
