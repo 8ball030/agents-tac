{
 "cells": [
  {
   "cell_type": "markdown",
   "metadata": {},
   "source": [
    "# Computing a Competitive Equilibrium"
   ]
  },
  {
   "cell_type": "markdown",
   "metadata": {},
   "source": [
    "Competitive equilibria are extremely well studied by economists. Here some useful resources:\n",
    "- [one](https://web.stanford.edu/~jdlevin/Econ%20202/General%20Equilibrium.pdf)\n",
    "- [two](http://www.columbia.edu/~md3405/IM_CE.pdf)\n",
    "- [three](http://nicolalimodio.com/wp-content/uploads/2015/11/ec202d.pdf)\n",
    "- [four](http://timroughgarden.org/talks/tcsplus15.pdf)\n",
    "- [five](https://arxiv.org/pdf/1511.04032.pdf), [six](http://www.cs.tau.ac.il/~fiat/cgt12/walras.pdf)\n",
    "- [seven](http://darp.lse.ac.uk/presentations/MP2Book/OUP/ConsumerOptimisation.pdf)\n",
    "\n",
    "Our agents are assigned preferences and endowments at the start of the game."
   ]
  },
  {
   "cell_type": "markdown",
   "metadata": {},
   "source": [
    "Let:\n",
    "\n",
    "- $n$: number of agents.\n",
    "- $I := \\{1, \\dots, n\\}$\n",
    "- $m$: number of goods.\n",
    "- $G := \\{1, \\dots, m\\}$\n",
    "- $\\mathbf{e} = \\langle\\mathbf{e}^1, \\dots, \\mathbf{e}^n\\rangle$: list of good endowment vectors, one for each agent.\n",
    "- $\\mathbf{e}^i = \\langle e^i_1, \\dots, e^i_m\\rangle$: list of good endowments for agent $i$.\n",
    "- $\\mathbf{s} = \\langle \\mathbf{s}^1, \\dots, \\mathbf{s}^n \\rangle$: a list of preference score vectors, one for each agent.\n",
    "- $\\mathbf{s}^i = \\langle s^i_1, \\dots, s^i_m \\rangle$: a list of preference scores, one for each good, for agent $i$.\n",
    "- $\\mathbf{x} = \\langle \\mathbf{x}^1, \\dots, \\mathbf{x}^n \\rangle$: a list of good holding vectors, one for each agent.\n",
    "- $\\mathbf{x}^i = \\langle x^i_1, \\dots, x^i_m \\rangle$: a list of good holdings, one for each good, for agent $i$.\n",
    "- $\\mathbf{p} = \\langle p_1, \\dots, p_m \\rangle$: a list of prices, one for each good.\n",
    "- $\\mathbf{f} = \\langle f^1, \\dots, f^n\\rangle$: list of money holdings, one for each agent.\n",
    "- $\\mathbf{m} = \\langle m^i, \\dots, m^n \\rangle$: list of money endowments, one for each agent.\n",
    "- $f^i, m^i, x^i_j, s^i_j, e^i_j$ are non-negative reals."
   ]
  },
  {
   "cell_type": "markdown",
   "metadata": {},
   "source": [
    "Option 1 (Step Function): Utility of agent $i$ is defined as:\n",
    "\n",
    "$\n",
    "\\begin{equation}\n",
    "u(f^i, \\mathbf{x}^i, \\mathbf{s}^i) = f^i + \\sum_{j \\in G} \\mathbb{1}\\left(x^i_j > 0 \\right) s^i_j\n",
    "\\end{equation}\n",
    "$"
   ]
  },
  {
   "cell_type": "markdown",
   "metadata": {},
   "source": [
    "Option 2 (Perfect Substitutes): Utility of agent $i$ is defined as:\n",
    "\n",
    "$\n",
    "\\begin{equation}\n",
    "u(f^i, \\mathbf{x}^i, \\mathbf{s}^i) = f^i + \\sum_{j \\in G} x^i_j s^i_j\n",
    "\\end{equation}\n",
    "$"
   ]
  },
  {
   "cell_type": "markdown",
   "metadata": {},
   "source": [
    "Option 3 (Transformed Cobb-Douglas): Utility of agent $i$ is defined as:\n",
    "\n",
    "$\n",
    "\\begin{equation}\n",
    "u(f^i, \\mathbf{x}^i, \\mathbf{s}^i) = f^i + \\sum_{j \\in G} s^i_j \\ln \\left(x^i_j\\right) \n",
    "\\end{equation}\n",
    "$\n",
    "and \n",
    "$\n",
    "\\begin{equation}\n",
    "\\sum_{j \\in G} s^i_j = 1\n",
    "\\end{equation}\n",
    "$\n",
    "and\n",
    "$s^i_j > 0$"
   ]
  },
  {
   "cell_type": "markdown",
   "metadata": {},
   "source": [
    "For the agent optimization problem to have a unique solution the agent's utility needs to satisfy:\n",
    "- (A1) $u(\\cdot)$ is continuous in all its arguments\n",
    "- (A2) $u(\\cdot)$ is increasing, that is $u(f^i, \\tilde{\\mathbf{x}}^i, \\mathbf{s}^i) > u(f^i, \\mathbf{x}^i, \\mathbf{s}^i)$ whenever $u(f^i, \\tilde{\\mathbf{x}}^i, \\mathbf{s}^i) >> u(f^i, \\mathbf{x}^i, \\mathbf{s}^i)$.\n",
    "- (A3) $u(\\cdot)$ is concave\n",
    "\n",
    "For Option 1 these are not all satisfied, for option 2 & 3 they are all satisfied."
   ]
  },
  {
   "cell_type": "markdown",
   "metadata": {},
   "source": [
    "## Agent Optimization Problem"
   ]
  },
  {
   "cell_type": "markdown",
   "metadata": {},
   "source": [
    "An agent faces the following optimization problem (taking prices as given):\n",
    "\n",
    "$\n",
    "\\begin{equation}\n",
    "\\max_{f^i, \\mathbf{x}^i} u\\left(f^i, \\mathbf{x}^i, \\mathbf{s}^i\\right) \\text{s.t. } \\sum_{j \\in G} p_j x^i_j + f^i\\leq \\sum_{j \\in G} p_je^i_j + m^i\n",
    "\\end{equation}\n",
    "$"
   ]
  },
  {
   "cell_type": "markdown",
   "metadata": {},
   "source": [
    "The Lagrangian of this problem is:\n",
    "\n",
    "$\n",
    "\\begin{equation}\n",
    "L = u\\left(f^i, \\mathbf{x}^i, \\mathbf{s}^i\\right) + \\lambda \\left(\\sum_{j \\in G} p_j e^i_j + m^i - \\sum_{j \\in G} p_j x^i_j - f^i \\right)\n",
    "\\end{equation}\n",
    "$\n",
    "\n",
    "And the $m+2$ first order conditions are:\n",
    "\n",
    "$\n",
    "\\begin{equation}\n",
    "\\frac{\\delta u\\left(f^i, \\mathbf{x}^i, \\mathbf{s}^i\\right)}{\\delta x_j^i}- \\lambda p_j = 0 % s_j^i - \\lambda p_j = 0\n",
    "\\end{equation}\n",
    "$\n",
    "and\n",
    "$\n",
    "\\begin{equation}\n",
    "\\frac{\\delta u\\left(f^i, \\mathbf{x}^i, \\mathbf{s}^i\\right)}{\\delta f^i}- \\lambda = 0\n",
    "\\end{equation}\n",
    "$\n",
    "and\n",
    "$\n",
    "\\begin{equation}\n",
    "\\sum_{j \\in G} p_j e^i_j + m^i - \\sum_{j \\in G} p_j x^i_j - f^i = 0\n",
    "\\end{equation}\n",
    "$\n",
    "\n",
    "This then allows derivation of demand functions $x^{i,\\ast}_j(\\mathbf{p}, \\mathbf{e}^i, m^i)$ for $j \\in G$ and $f^{i,\\ast}(\\mathbf{p}, \\mathbf{e}^i, m^i)$."
   ]
  },
  {
   "cell_type": "markdown",
   "metadata": {},
   "source": [
    "## Competitive Equilibrium"
   ]
  },
  {
   "cell_type": "markdown",
   "metadata": {},
   "source": [
    "An equilibrium is a consumption bundle for each agent $\\mathbf{x}^1,\\dots,\\mathbf{x}^n$ and price $\\mathbf{p}$ such that\n",
    "\n",
    "- 1) feasibility: the allocation is feasible, that is $\\forall j \\in G$ we have $\\sum_{i \\in I} x_j^i = \\sum_{i \\in I} e_j^i$ and $\\sum_{i \\in I} f^i = \\sum_{i \\in I} m^i$.\n",
    "- 2) optimality: the consumption bundle solves the agent's optimization problem, given prices and initial endowments: $x_j^{i,\\ast}\\left(\\mathbf{p},\\mathbf{e}^i, m^i\\right) = x_j^i$ and $f^{i,\\ast}\\left(\\mathbf{p},\\mathbf{e}^i, m^i\\right) = f^i$."
   ]
  },
  {
   "cell_type": "markdown",
   "metadata": {},
   "source": [
    "There exists a simple algorithm to find the competitive equilibrium:\n",
    "\n",
    "- 1. solve the optimization problem for each consumer to get their excess demand as a function of prices and endowments:  $z_j^{i,\\ast}\\left(\\mathbf{p},\\mathbf{e}^i\\right) = x_j^{i,\\ast}\\left(\\mathbf{p},\\mathbf{e}^i, m^i\\right) - e_j^i$ for each $j \\in G$ and $z_f^{i,\\ast}\\left(\\mathbf{p},\\mathbf{e}^i, m^i\\right) = f^{i,\\ast}\\left(\\mathbf{p},\\mathbf{e}^i, m^i\\right) - m^i$\n",
    "- 2. find a price s.t. net demand for each good in economy is zero: $\\sum_{i \\in I} z_j^{i,\\ast}\\left(\\mathbf{p},\\mathbf{e}^i, m^i\\right) = 0$ for each $j \\in G$ and $\\sum_{i \\in I} z_f^{i,\\ast}\\left(\\mathbf{p},\\mathbf{e}^i, m^i\\right) = 0$"
   ]
  },
  {
   "cell_type": "markdown",
   "metadata": {},
   "source": [
    "Intuitively: the agent's sell their endowments $\\mathbf{e}^i$ at market prices $\\mathbf{p}$ and then buy the best bundle they can afford."
   ]
  },
  {
   "cell_type": "markdown",
   "metadata": {},
   "source": [
    "Properties of the competitive equilibrium:\n",
    "\n",
    "- Existence: Consider an economy which satisfies $A1-A4$, then there exists a CE $\\left(\\mathbf{p},\\left(\\mathbf{x}^i\\right)_{i \\in I}\\right)$.\n",
    "- Uniqueness: The CE is not in general unique.\n",
    "- Stability (do reasonable dynamic adjustment processes converge to CE): Not in general.\n",
    "- First Welfare Theorem: Let $\\left(\\mathbf{p},\\left(\\mathbf{x}^i\\right)_{i \\in I}\\right)$ be a CE, then (given A2 holds) $\\left(\\mathbf{x}^i\\right)_{i \\in I}$ is Pareto optimal. This means, we cannot make any agent better off without making another agent worse off.\n",
    "- Second Welfare Theorem: Consider an economy which satisfies $A1-A4$. If $\\left(\\mathbf{x}^i\\right)_{i \\in I}$ is Pareto optimal then there exists a $\\mathbf{p}$ such that $\\left(\\mathbf{p},\\left(\\mathbf{x}^i\\right)_{i \\in I}\\right)$ is a CE. This means, we can achieve any Pareto optimal allocation with some price vector (potentially requiring redistribution of endowments).\n",
    "\n",
    "where\n",
    "- A4: $\\mathbf{e}^i >> 0$"
   ]
  },
  {
   "cell_type": "markdown",
   "metadata": {},
   "source": [
    "However, there exists a subclass of utility functions which satisfy the gross-substitues property and as a result guarantee a unique equilibrium.\n",
    "\n",
    "Option 3 falls into that class."
   ]
  },
  {
   "cell_type": "markdown",
   "metadata": {},
   "source": [
    "## Our Game (with money)"
   ]
  },
  {
   "cell_type": "markdown",
   "metadata": {},
   "source": [
    "We slightly adjust the utility function with a scalling factor $t$:\n",
    "$\n",
    "\\begin{equation}\n",
    "u(f^i, \\mathbf{x}^i, \\mathbf{s}^i) = f^i + \\sum_{j \\in G} t * s^i_j \\ln \\left(x^i_j\\right) \n",
    "\\end{equation}\n",
    "$"
   ]
  },
  {
   "cell_type": "markdown",
   "metadata": {},
   "source": [
    "We take Option 3. Then it can be shown that the agent's demand functions are\n",
    "$\n",
    "\\begin{equation}\n",
    "x^{i,\\ast}_j(\\mathbf{p}, \\mathbf{e}^i) = \\frac{s_j^{i} * t}{p_j}\n",
    "\\end{equation}\n",
    "$\n",
    "for $j \\in G$ and \n",
    "$\n",
    "\\begin{equation}\n",
    "f^{i,\\ast}(\\mathbf{p}, \\mathbf{e}^i) = \\sum_{k \\in G} p_k e^i_k + m^i - 1\n",
    "\\end{equation}\n",
    "$\n",
    "excess demand functions are\n",
    "$\n",
    "\\begin{equation}\n",
    "z^{i,\\ast}_j(\\mathbf{p}, \\mathbf{e}^i) = \\frac{s_j^{i} * t}{p_j} - e_j^i\n",
    "\\end{equation}\n",
    "$\n",
    "for $j \\in G$ and \n",
    "$\n",
    "\\begin{equation}\n",
    "f^{i,\\ast}(\\mathbf{p}, \\mathbf{e}^i) = \\sum_{k \\in G} p_k e^i_k - 1\n",
    "\\end{equation}\n",
    "$"
   ]
  },
  {
   "cell_type": "markdown",
   "metadata": {},
   "source": [
    "And therefore\n",
    "$\n",
    "\\begin{equation}\n",
    "p_j = \\frac{t \\sum_{i \\in I} s^i_j}{\\sum_{i \\in I} e^i_j}.\n",
    "\\end{equation}\n",
    "$"
   ]
  },
  {
   "cell_type": "markdown",
   "metadata": {},
   "source": [
    "## Our Game (with no money)"
   ]
  },
  {
   "cell_type": "markdown",
   "metadata": {},
   "source": [
    "Set $f^i = m^i = 0$ for all $i \\in I$."
   ]
  },
  {
   "cell_type": "markdown",
   "metadata": {},
   "source": [
    "We take Option 3. Then it can be shown that the agent's demand functions are\n",
    "$\n",
    "\\begin{equation}\n",
    "x^{i,\\ast}_j(\\mathbf{p}, \\mathbf{e}^i) = \\frac{s_j^{i}}{p_j}\\sum_{k \\in G} p_k e^i_k\n",
    "\\end{equation}\n",
    "$\n",
    "for $j \\in G$ and \n",
    "excess demand functions are\n",
    "$\n",
    "\\begin{equation}\n",
    "z^{i,\\ast}_j(\\mathbf{p}, \\mathbf{e}^i) = \\frac{s_j^{i}}{p_j}\\sum_{k \\in G} p_k e^i_k - e_j^i\n",
    "\\end{equation}\n",
    "$"
   ]
  },
  {
   "cell_type": "markdown",
   "metadata": {},
   "source": [
    "We therefore have the zero net demand for $j$ condition given by:\n",
    "$\n",
    "\\begin{equation}\n",
    "\\sum_{i \\in I} \\frac{s_j^{i}}{p_j}\\sum_{k \\in G} p_k e^i_k - \\sum_{i \\in I} e_j^i = 0\n",
    "\\end{equation}\n",
    "$\n",
    "which is homogenous of degree zero. Hence, we can set $p_1 = 1 w.l.o.g$.\n",
    "Then for $j \\neq 1$ we have the following set of linear equations\n",
    "\n",
    "$\n",
    "\\begin{equation}\n",
    "p_j \\sum_{i \\in I}\\left(s_j^i - 1\\right)e_j^i + \\sum_{k \\in G \\backslash \\{j\\}} p_k \\sum_{i \\in I} s_j^ie_k^i = 0\n",
    "\\end{equation}\n",
    "$"
   ]
  },
  {
   "cell_type": "markdown",
   "metadata": {},
   "source": [
    "Hence, we have $m \\times m$ matrix\n",
    "\n",
    "$\n",
    "\\mathbf{A} = \n",
    "\\begin{bmatrix} \n",
    "\\sum_{i\\in I}\\left(s_1^i-1\\right)e_1^i & \\sum_{i \\in I}s_1^i e_2^i & ... & \\sum_{i \\in I}s_1^i e_m^i \\\\\n",
    "\\sum_{i \\in I}s_2^i e_1^i & \\sum_{i\\in I}\\left(s_2^i-1\\right)e_2^i & ... & \\sum_{i \\in I}s_2^i e_m^i \\\\\n",
    "... & ... & ... & ... \\\\\n",
    "\\sum_{i \\in I}s_m^i e_1^i & \\sum_{i \\in I}s_m^i e_2^i & ... & \\sum_{i\\in I}\\left(s_m^i-1\\right)e_m^i \\\\\n",
    "\\end{bmatrix} = \n",
    "\\begin{bmatrix} \n",
    "\\left(\\mathbf{s}_1-\\mathbf{1}\\right)^{T}\\mathbf{e}_1 & \\mathbf{s}_1^{T} \\mathbf{e}_2 & ... & \\mathbf{s}_1^{T} \\mathbf{e}_m \\\\\n",
    "\\mathbf{s}_2^{T} \\mathbf{e}_1 & \\left(\\mathbf{s}_2-\\mathbf{1}\\right)^{T}\\mathbf{e}_2 & ... & \\mathbf{s}_2^{T} \\mathbf{e}_m \\\\\n",
    "... & ... & ... & ... \\\\\n",
    "\\mathbf{s}_m^{T} \\mathbf{e}_1 & \\mathbf{s}_m^{T} \\mathbf{e}_2 & ... & \\left(\\mathbf{s}_m-\\mathbf{1}\\right)^{T}\\mathbf{e}_m \\\\\n",
    "\\end{bmatrix}\n",
    "$\n",
    "\n",
    "and $m \\times 1$ matrix/vector\n",
    "\n",
    "$\n",
    "\\mathbf{p} = \n",
    "\\begin{bmatrix} \n",
    "p_1 \\\\\n",
    "... \\\\\n",
    "p_m \\\\\n",
    "\\end{bmatrix}\n",
    "$\n",
    "\n",
    "and system\n",
    "\n",
    "$\n",
    "\\mathbf{A} \\mathbf{p} = \\mathbf{0}\n",
    "$\n",
    "\n",
    "where $\\mathbf{0}$ denotes an $m \\times 1$ vector of zeros."
   ]
  },
  {
   "cell_type": "markdown",
   "metadata": {},
   "source": [
    "So we have a homegenous system of linear equations. Importantly, if there is a solution to the system other than $\\mathbf{p} = \\mathbf{0}$, then there are inifinitely many such solutions. We can fix one by setting $p_1=1$ and solve."
   ]
  },
  {
   "cell_type": "markdown",
   "metadata": {},
   "source": [
    "## Python Implementation"
   ]
  },
  {
   "cell_type": "code",
   "execution_count": 100,
   "metadata": {},
   "outputs": [],
   "source": [
    "import pprint\n",
    "import random\n",
    "from typing import List\n",
    "import math\n",
    "import numpy as np\n",
    "\n",
    "\n",
    "nb_agents = 10\n",
    "nb_goods = 7\n",
    "initial_money_endowment = 200\n",
    "uniform_lower_bound_factor = 2\n",
    "uniform_upper_bound_factor = 10\n",
    "scaling_factor = 100.0"
   ]
  },
  {
   "cell_type": "code",
   "execution_count": 101,
   "metadata": {},
   "outputs": [
    {
     "name": "stdout",
     "output_type": "stream",
     "text": [
      "Utility function params shape:  10 x 7\n",
      "Utility function params:  [[0.1843, 0.1144, 0.1165, 0.1335, 0.2097, 0.1589, 0.0827],\n",
      " [0.2311, 0.2288, 0.0183, 0.1876, 0.1442, 0.1739, 0.0161],\n",
      " [0.1199, 0.25, 0.2329, 0.1164, 0.0342, 0.0308, 0.2158],\n",
      " [0.1878, 0.2366, 0.0854, 0.0049, 0.1244, 0.1244, 0.2365],\n",
      " [0.098, 0.0033, 0.0523, 0.2614, 0.2876, 0.0752, 0.2222],\n",
      " [0.1616, 0.274, 0.0247, 0.1397, 0.2411, 0.063, 0.0959],\n",
      " [0.0147, 0.2821, 0.0403, 0.2527, 0.011, 0.0403, 0.3589],\n",
      " [0.2248, 0.2584, 0.0078, 0.0879, 0.0233, 0.2455, 0.1523],\n",
      " [0.114, 0.1674, 0.1698, 0.2, 0.0953, 0.1023, 0.1512],\n",
      " [0.1468, 0.2936, 0.2324, 0.0612, 0.1651, 0.0734, 0.0275]]\n"
     ]
    }
   ],
   "source": [
    "def _sample_utility_function_params(nb_goods: int, nb_agents: int) -> List[List[float]]:\n",
    "    \"\"\"\n",
    "    Sample utility function params for each agent.\n",
    "    :param nb_goods: the number of goods\n",
    "    :param nb_agents: the number of agents\n",
    "    :return: a matrix with utility function params for each agent\n",
    "    \"\"\"\n",
    "    decimals = 4 if nb_goods < 100 else 8\n",
    "    utility_function_params = []\n",
    "    for i in range(nb_agents):\n",
    "        random_integers = [random.randint(1,101) for _ in range(nb_goods)]\n",
    "        total = sum(random_integers)\n",
    "        normalized_fractions = [ round(i / float(total), decimals) for i in random_integers]\n",
    "        if not sum(normalized_fractions) == 1.0:\n",
    "            normalized_fractions[-1] = round(1.0 - sum(normalized_fractions[0:-1]), decimals)\n",
    "        utility_function_params.append(normalized_fractions)\n",
    "    return utility_function_params\n",
    "\n",
    "def _test_sample_utility_function_params(utility_function_params: List[List[float]]) -> None:\n",
    "    decimals = 4 if len(utility_function_params[0]) < 100 else 8\n",
    "    for row in utility_function_params:\n",
    "        assert(round(sum(row), decimals) == 1.0)\n",
    "\n",
    "utility_function_params = _sample_utility_function_params(nb_goods, nb_agents)\n",
    "_test_sample_utility_function_params(utility_function_params)\n",
    "print(\"Utility function params shape: \", str(len(utility_function_params)) + ' x ' + str(len(utility_function_params[0])))\n",
    "print(\"Utility function params: \", pprint.pformat(utility_function_params))"
   ]
  },
  {
   "cell_type": "code",
   "execution_count": 102,
   "metadata": {},
   "outputs": [
    {
     "name": "stdout",
     "output_type": "stream",
     "text": [
      "Utility of first agent from random bundle:  1.5282609166180756, [2, 7, 7, 5, 4, 6, 7]\n"
     ]
    }
   ],
   "source": [
    "def utility(utility_function_params: List[float], good_bundle: List[int]) -> float:\n",
    "    \"\"\"\n",
    "    Compute agent's utility given her utilit function params and a good bundle.\n",
    "    :param utility_function_params: utility function params of the agent\n",
    "    :param good_bundle: a bundle of goods with the quantitity for each good\n",
    "    :return: utility value\n",
    "    \"\"\"\n",
    "    goodwise_utility = [param * math.log(quantity) for param, quantity in zip(utility_function_params, good_bundle)]\n",
    "    return sum(goodwise_utility)\n",
    "\n",
    "random_bundle = [random.randint(1,10) for _ in range(nb_goods)]\n",
    "utility = utility(utility_function_params[0], random_bundle)\n",
    "print(\"Utility of first agent from random bundle: \", str(utility) + ', ' + pprint.pformat(random_bundle)) "
   ]
  },
  {
   "cell_type": "code",
   "execution_count": 103,
   "metadata": {},
   "outputs": [
    {
     "name": "stdout",
     "output_type": "stream",
     "text": [
      "Endowments: \n",
      "[[18  5  5 12 11  9  5]\n",
      " [10  9  4  6  4 11  5]\n",
      " [ 9  4  5 17  6  8  7]\n",
      " [11 10  2 10  6  5  2]\n",
      " [10  4  4  9  7 15  7]\n",
      " [ 7  4  5 14  5  9  8]\n",
      " [10  4  3  6  6  7  7]\n",
      " [ 3  5  4 10 13  9  6]\n",
      " [ 5  8  3 11  8 10  6]\n",
      " [ 6  6  5 13  7  9  8]]\n"
     ]
    }
   ],
   "source": [
    "def _sample_good_instances(nb_agents: int, uniform_lower_bound_factor: int, uniform_upper_bound_factor: int) -> int:\n",
    "    \"\"\"\n",
    "    Sample the number of instances for a good.\n",
    "    :param nb_agents: the number of agents\n",
    "    :param uniform_lower_bound_factor: the lower bound factor of a uniform distribution\n",
    "    :param uniform_upper_bound_factor: the upper bound factor of a uniform distribution\n",
    "    :return: the number of instances I sampled.\n",
    "    \"\"\"\n",
    "    a = nb_agents + nb_agents * uniform_lower_bound_factor\n",
    "    b = nb_agents + nb_agents * uniform_upper_bound_factor\n",
    "    # Return random integer in range [a, b]\n",
    "    nb_instances = [round(np.random.uniform(a, b)) for _ in range(nb_goods)]\n",
    "    return nb_instances\n",
    "\n",
    "def _generate_endowments(nb_goods: int, nb_agents: int, uniform_lower_bound_factor: int, uniform_upper_bound_factor: int) -> List[List[int]]:\n",
    "    # sample good instances\n",
    "    instances_per_good = _sample_good_instances(nb_agents, uniform_lower_bound_factor, uniform_upper_bound_factor)\n",
    "    # each agent receives at least one good\n",
    "    endowments = [[1] * nb_goods for _ in range(nb_agents)]\n",
    "    # randomly assign additional goods to create differences\n",
    "    for good_id in range(nb_goods):\n",
    "        for _ in range(instances_per_good[good_id] - nb_agents):\n",
    "            agent_id = random.randint(0, nb_agents - 1)\n",
    "            endowments[agent_id][good_id] += 1\n",
    "    return endowments\n",
    "\n",
    "endowments = _generate_endowments(nb_goods, nb_agents, uniform_lower_bound_factor, uniform_upper_bound_factor)\n",
    "print(\"Endowments: \")\n",
    "print(np.asarray(endowments))"
   ]
  },
  {
   "cell_type": "markdown",
   "metadata": {},
   "source": [
    "### Money"
   ]
  },
  {
   "cell_type": "code",
   "execution_count": 104,
   "metadata": {},
   "outputs": [],
   "source": [
    "def _compute_competitive_equilibrium_money(endowments: List[List[int]], utility_function_params: List[List[float]], scaling_factor: float, initial_money_endowment: float) -> (List[float], List[int]):\n",
    "    \"\"\"\n",
    "    Computes the competitive equilibrium prices and allocation, assuming money.\n",
    "    \"\"\"\n",
    "    endowments_a = np.array(endowments, dtype=np.int)\n",
    "    utility_function_params_a = np.array(utility_function_params, dtype=np.float)\n",
    "    scaled_utility_function_params_a = utility_function_params_a * scaling_factor\n",
    "    endowments_by_good = np.sum(endowments_a, axis=0)\n",
    "    scaled_params_by_good = np.sum(scaled_utility_function_params_a, axis=0)\n",
    "    eq_prices = scaled_params_by_good / endowments_by_good\n",
    "    eq_allocation = np.divide(scaled_utility_function_params_a, eq_prices)\n",
    "    eq_money = np.sum(np.divide(endowments_a, eq_prices),axis=1) - 1 + initial_money_endowment\n",
    "    return eq_prices, eq_allocation, eq_money\n",
    "    "
   ]
  },
  {
   "cell_type": "code",
   "execution_count": 105,
   "metadata": {},
   "outputs": [
    {
     "data": {
      "text/plain": [
       "array([1.66629213, 3.57389831, 2.451     , 1.33824074, 1.83      ,\n",
       "       1.18228261, 2.55590164])"
      ]
     },
     "execution_count": 105,
     "metadata": {},
     "output_type": "execute_result"
    }
   ],
   "source": [
    "eq_prices, eq_allocation, eq_money = _compute_competitive_equilibrium_money(endowments,utility_function_params, scaling_factor, initial_money_endowment)\n",
    "eq_prices"
   ]
  },
  {
   "cell_type": "code",
   "execution_count": 106,
   "metadata": {},
   "outputs": [
    {
     "data": {
      "text/plain": [
       "array([[11.0604855 ,  3.20098644,  4.75316197,  9.97578357, 11.45901639,\n",
       "        13.44010297,  3.23564877],\n",
       "       [13.86911666,  6.40197287,  0.74663403, 14.01840448,  7.87978142,\n",
       "        14.70883516,  0.62991469],\n",
       "       [ 7.19561699,  6.99516267,  9.50224398,  8.69798658,  1.86885246,\n",
       "         2.60513009,  8.44320441],\n",
       "       [11.2705327 ,  6.62022195,  3.48429213,  0.36615236,  6.79781421,\n",
       "        10.52201894,  9.25309473],\n",
       "       [ 5.88132165,  0.09233615,  2.13382293, 19.53310731, 15.71584699,\n",
       "         6.36057737,  8.69360529],\n",
       "       [ 9.69817937,  7.66669828,  1.00775194, 10.43907839, 13.17486339,\n",
       "         5.32867519,  3.75210057],\n",
       "       [ 0.88219825,  7.89334155,  1.64422685, 18.88300007,  0.6010929 ,\n",
       "         3.40866048, 14.04201142],\n",
       "       [13.49103169,  7.23020013,  0.31823745,  6.56832492,  1.27322404,\n",
       "        20.7649168 ,  5.95875826],\n",
       "       [ 6.84153742,  4.68396092,  6.92778458, 14.94499412,  5.20765027,\n",
       "         8.65275352,  5.91572061],\n",
       "       [ 8.80997977,  8.21511904,  9.48184415,  4.5731682 ,  9.02185792,\n",
       "         6.2083295 ,  1.07594125]])"
      ]
     },
     "execution_count": 106,
     "metadata": {},
     "output_type": "execute_result"
    }
   ],
   "source": [
    "eq_allocation"
   ]
  },
  {
   "cell_type": "code",
   "execution_count": 107,
   "metadata": {},
   "outputs": [
    {
     "data": {
      "text/plain": [
       "array([237.7880191 , 227.08117756, 233.04768819, 224.97833762,\n",
       "       233.72902697, 230.29629409, 223.76626136, 228.36764756,\n",
       "       228.86017079, 230.60141871])"
      ]
     },
     "execution_count": 107,
     "metadata": {},
     "output_type": "execute_result"
    }
   ],
   "source": [
    "eq_money"
   ]
  },
  {
   "cell_type": "code",
   "execution_count": 110,
   "metadata": {},
   "outputs": [
    {
     "data": {
      "text/plain": [
       "2298.5160419454064"
      ]
     },
     "execution_count": 110,
     "metadata": {},
     "output_type": "execute_result"
    }
   ],
   "source": [
    "def _test_compute_competitive_equilibrium_money(endowments: List[List[int]], utility_function_params: List[List[float]], scaling_factor: float, initial_money_endowment: float) -> None:\n",
    "    \"\"\"\n",
    "    \"\"\"\n",
    "    endowments_by_good = np.sum(np.array(endowments, dtype=np.int), axis=0)\n",
    "    eq_prices, eq_allocation, eq_money = _compute_competitive_equilibrium_money(endowments,utility_function_params, scaling_factor, initial_money_endowment)\n",
    "    eq_allocation_by_good = np.sum(eq_allocation, axis=0)\n",
    "    assert(np.allclose(endowments_by_good, eq_allocation_by_good))\n",
    "    return np.sum(eq_money)\n",
    "    #assert(np.allclose(len(endowments) * initial_money_endowment, np.sum(eq_money)))\n",
    "\n",
    "_test_compute_competitive_equilibrium_money(endowments, utility_function_params, scaling_factor, initial_money_endowment)"
   ]
  },
  {
   "cell_type": "markdown",
   "metadata": {},
   "source": [
    "### No money"
   ]
  },
  {
   "cell_type": "code",
   "execution_count": 2,
   "metadata": {},
   "outputs": [
    {
     "ename": "NameError",
     "evalue": "name 'List' is not defined",
     "output_type": "error",
     "traceback": [
      "\u001b[0;31m---------------------------------------------------------------------------\u001b[0m",
      "\u001b[0;31mNameError\u001b[0m                                 Traceback (most recent call last)",
      "\u001b[0;32m<ipython-input-2-78fd7bd71fb5>\u001b[0m in \u001b[0;36m<module>\u001b[0;34m\u001b[0m\n\u001b[0;32m----> 1\u001b[0;31m \u001b[0;32mdef\u001b[0m \u001b[0m_construct_A\u001b[0m\u001b[0;34m(\u001b[0m\u001b[0mendowments\u001b[0m\u001b[0;34m:\u001b[0m \u001b[0mList\u001b[0m\u001b[0;34m[\u001b[0m\u001b[0mList\u001b[0m\u001b[0;34m[\u001b[0m\u001b[0mint\u001b[0m\u001b[0;34m]\u001b[0m\u001b[0;34m]\u001b[0m\u001b[0;34m,\u001b[0m \u001b[0mutility_function_params\u001b[0m\u001b[0;34m:\u001b[0m \u001b[0mList\u001b[0m\u001b[0;34m[\u001b[0m\u001b[0mList\u001b[0m\u001b[0;34m[\u001b[0m\u001b[0mfloat\u001b[0m\u001b[0;34m]\u001b[0m\u001b[0;34m]\u001b[0m\u001b[0;34m)\u001b[0m \u001b[0;34m->\u001b[0m \u001b[0mList\u001b[0m\u001b[0;34m[\u001b[0m\u001b[0mList\u001b[0m\u001b[0;34m[\u001b[0m\u001b[0mfloat\u001b[0m\u001b[0;34m]\u001b[0m\u001b[0;34m]\u001b[0m\u001b[0;34m:\u001b[0m\u001b[0;34m\u001b[0m\u001b[0;34m\u001b[0m\u001b[0m\n\u001b[0m\u001b[1;32m      2\u001b[0m     \u001b[0mnb_agents\u001b[0m \u001b[0;34m=\u001b[0m \u001b[0mlen\u001b[0m\u001b[0;34m(\u001b[0m\u001b[0mendowments\u001b[0m\u001b[0;34m)\u001b[0m\u001b[0;34m\u001b[0m\u001b[0;34m\u001b[0m\u001b[0m\n\u001b[1;32m      3\u001b[0m     \u001b[0mnb_goods\u001b[0m \u001b[0;34m=\u001b[0m \u001b[0mlen\u001b[0m\u001b[0;34m(\u001b[0m\u001b[0mendowments\u001b[0m\u001b[0;34m[\u001b[0m\u001b[0;36m0\u001b[0m\u001b[0;34m]\u001b[0m\u001b[0;34m)\u001b[0m\u001b[0;34m\u001b[0m\u001b[0;34m\u001b[0m\u001b[0m\n\u001b[1;32m      4\u001b[0m     \u001b[0mendowments_a\u001b[0m \u001b[0;34m=\u001b[0m \u001b[0mnp\u001b[0m\u001b[0;34m.\u001b[0m\u001b[0marray\u001b[0m\u001b[0;34m(\u001b[0m\u001b[0mendowments\u001b[0m\u001b[0;34m,\u001b[0m \u001b[0mdtype\u001b[0m\u001b[0;34m=\u001b[0m\u001b[0mnp\u001b[0m\u001b[0;34m.\u001b[0m\u001b[0mint\u001b[0m\u001b[0;34m)\u001b[0m\u001b[0;34m\u001b[0m\u001b[0;34m\u001b[0m\u001b[0m\n\u001b[1;32m      5\u001b[0m     \u001b[0mparams_a\u001b[0m \u001b[0;34m=\u001b[0m \u001b[0mnp\u001b[0m\u001b[0;34m.\u001b[0m\u001b[0marray\u001b[0m\u001b[0;34m(\u001b[0m\u001b[0mutility_function_params\u001b[0m\u001b[0;34m,\u001b[0m \u001b[0mdtype\u001b[0m\u001b[0;34m=\u001b[0m\u001b[0mnp\u001b[0m\u001b[0;34m.\u001b[0m\u001b[0mfloat\u001b[0m\u001b[0;34m)\u001b[0m\u001b[0;34m\u001b[0m\u001b[0;34m\u001b[0m\u001b[0m\n",
      "\u001b[0;31mNameError\u001b[0m: name 'List' is not defined"
     ]
    }
   ],
   "source": [
    "def _construct_A(endowments: List[List[int]], utility_function_params: List[List[float]]) -> List[List[float]]:\n",
    "    nb_agents = len(endowments)\n",
    "    nb_goods = len(endowments[0])\n",
    "    endowments_a = np.array(endowments, dtype=np.int)\n",
    "    params_a = np.array(utility_function_params, dtype=np.float)\n",
    "    A = np.zeros((nb_goods, nb_goods), dtype=np.float)\n",
    "    for j in range(nb_goods):\n",
    "        for k in range(nb_goods):\n",
    "            if k == j:\n",
    "                adjusted = params_a[:,j] - np.ones(nb_agents, dtype=np.float)\n",
    "                val = np.inner(adjusted, endowments_a[:,k])\n",
    "            else:\n",
    "                val = np.inner(params_a[:,j], endowments_a[:,k])\n",
    "            A[j, k] = val\n",
    "    return A\n",
    "\n",
    "# def _null_space(A, eps=1e-15):\n",
    "#     u, s, vh = np.linalg.svd(A)\n",
    "#     null_space = np.compress(s <= eps, vh, axis=0)\n",
    "#     return null_space.T\n",
    "\n",
    "\n",
    "def _compute_competitive_equilibrium(endowments: List[List[int]], utility_function_params: List[List[float]]) -> (List[float], List[int]):\n",
    "    \"\"\"\n",
    "    Computes the competitive equilibrium prices and allocation, assuming no money.\n",
    "    \"\"\"\n",
    "    A = np.array(_construct_A(endowments, utility_function_params), dtype=np.float)\n",
    "    b = np.zeros(nb_goods, dtype=np.float)\n",
    "    # set first price to 1\n",
    "    b_new = - A[1:, 0]\n",
    "    A_new = np.delete(np.delete(A, 0, axis=1), 0, axis=0)\n",
    "    #     u, s, vh = np.linalg.svd(A)\n",
    "    #     p = np.dot(A, vh[-1])\n",
    "    p = np.linalg.solve(A_new, b_new)\n",
    "    #     det_A = np.linalg.det(A)\n",
    "    #     p = [0.0 for _ in range(len(endowments))]\n",
    "    #     for i in range(len(endowments)):\n",
    "    #         A_i = np.copy(A)\n",
    "    #         A_i[:, i] =  0\n",
    "    #         # apply Cramer's Rule\n",
    "    #         det_A_i = np.linalg.det(A_i)\n",
    "    #         p[i] = det_A_i / det_A\n",
    "    endowments_a = np.array(endowments, dtype=np.int)\n",
    "    params_a = np.array(utility_function_params, dtype=np.float)\n",
    "    eq_price = list(np.append(np.array(1, dtype=np.float),p))\n",
    "    eq_allocation = np.zeros((len(endowments), len(endowments[0])), dtype=np.float)\n",
    "    for i in range(len(endowments)):\n",
    "        for j in range(len(endowments[0])):\n",
    "            eq_allocation[i, j] = (params_a[i, j] / eq_price[j]) * np.inner(eq_price, endowments_a[i,:])\n",
    "    return eq_price, eq_allocation\n",
    "\n",
    "\n",
    "def _test_construct_A():\n",
    "    endowments = [[1, 3],[2, 1]]\n",
    "    utility_function_params = [[round(1/float(3), 4), round(2/float(3), 4)], [round(2/float(3), 4), round(1/float(3), 4)]]\n",
    "    return _construct_A(endowments, utility_function_params)\n",
    "    \n",
    "def _test_compute_competitive_equilibrium(endowments: int, utility_function_params: int, eps=1e-10) -> None:\n",
    "    #     endowments = [[1, 3],[2, 1]]\n",
    "    #     utility_function_params = [[round(1/float(3), 4), round(2/float(3), 4)], [round(2/float(3), 4), round(1/float(3), 4)]]\n",
    "    p, al = _compute_competitive_equilibrium(endowments,utility_function_params)\n",
    "    A = np.array(_construct_A(endowments, utility_function_params), dtype=np.float)\n",
    "    b = np.dot(A, p)\n",
    "    endowments_a = np.array(endowments, dtype=np.int)\n",
    "    # price must be a solution to the linear system of equations\n",
    "    assert(np.allclose(b, np.zeros(len(endowments[0]), dtype=np.float)))\n",
    "    # the final allocations must be feasible\n",
    "    assert(np.allclose(np.sum(al, axis=0), np.sum(endowments_a, axis=0)))\n",
    "    \n",
    "eq_price, eq_allocation = _compute_competitive_equilibrium(endowments,utility_function_params)\n",
    "\n",
    "print(\"Equilibrium price vector: \", pprint.pformat(eq_price))\n",
    "print(\"Equilibrium allocation: \", pprint.pformat(eq_allocation))\n",
    "_test_compute_competitive_equilibrium(endowments,utility_function_params)"
   ]
  },
  {
   "cell_type": "code",
   "execution_count": null,
   "metadata": {},
   "outputs": [],
   "source": []
  }
 ],
 "metadata": {
  "kernelspec": {
   "display_name": "Python 3",
   "language": "python",
   "name": "python3"
  },
  "language_info": {
   "codemirror_mode": {
    "name": "ipython",
    "version": 3
   },
   "file_extension": ".py",
   "mimetype": "text/x-python",
   "name": "python",
   "nbconvert_exporter": "python",
   "pygments_lexer": "ipython3",
   "version": "3.7.2"
  }
 },
 "nbformat": 4,
 "nbformat_minor": 2
}
