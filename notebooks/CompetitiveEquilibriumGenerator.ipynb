{
 "cells": [
  {
   "cell_type": "markdown",
   "metadata": {},
   "source": [
    "# Computing a Competitive Equilibrium"
   ]
  },
  {
   "cell_type": "markdown",
   "metadata": {},
   "source": [
    "Competitive equilibria are extremely well studied by economists. Here some useful resources:\n",
    "- [one](https://web.stanford.edu/~jdlevin/Econ%20202/General%20Equilibrium.pdf)\n",
    "- [two](http://www.columbia.edu/~md3405/IM_CE.pdf)\n",
    "- [three](http://nicolalimodio.com/wp-content/uploads/2015/11/ec202d.pdf)\n",
    "- [four](http://timroughgarden.org/talks/tcsplus15.pdf)\n",
    "- [five](https://arxiv.org/pdf/1511.04032.pdf), [six](http://www.cs.tau.ac.il/~fiat/cgt12/walras.pdf)\n",
    "- [seven](http://darp.lse.ac.uk/presentations/MP2Book/OUP/ConsumerOptimisation.pdf)\n",
    "\n",
    "Our agents are assigned preferences and endowments at the start of the game."
   ]
  },
  {
   "cell_type": "markdown",
   "metadata": {},
   "source": [
    "Let:\n",
    "\n",
    "- $n$: number of agents.\n",
    "- $I := \\{1, \\dots, n\\}$\n",
    "- $m$: number of goods.\n",
    "- $G := \\{1, \\dots, m\\}$\n",
    "- $M$: money endowment.\n",
    "- $\\mathbf{e} = \\langle\\mathbf{e}^1, \\dots, \\mathbf{e}^n\\rangle$: list of good endowment vectors, one for each agent.\n",
    "- $\\mathbf{e}^i = \\langle e^i_1, \\dots, e^i_m\\rangle$: list of good endowments for agent $i$.\n",
    "- $\\mathbf{s} = \\langle \\mathbf{s}^1, \\dots, \\mathbf{s}^n \\rangle$: a list of preference score vectors, one for each agent.\n",
    "- $\\mathbf{s}^i = \\langle s^i_1, \\dots, s^i_m \\rangle$: a list of preference scores, one for each good, for agent $i$.\n",
    "- $\\mathbf{x} = \\langle \\mathbf{x}^1, \\dots, \\mathbf{x}^n \\rangle$: a list of good holding vectors, one for each agent.\n",
    "- $\\mathbf{x}^i = \\langle x^i_1, \\dots, x^i_m \\rangle$: a list of good holdings, one for each good, for agent $i$.\n",
    "- $\\mathbf{p} = \\langle p_1, \\dots, p_m \\rangle$: a list of prices, one for each good.\n",
    "- $\\mathbf{f} = \\langle f^1, \\dots, f^n\\rangle$: list of money holdings, one for each agent.\n",
    "- $f^i, x^i_j, s^i_j, e^i_j$ are non-negative reals."
   ]
  },
  {
   "cell_type": "markdown",
   "metadata": {},
   "source": [
    "Option 1 (Current Implementation): Utility of agent $i$ is defined as:\n",
    "\n",
    "$\n",
    "\\begin{equation}\n",
    "u(f^i, \\mathbf{x}^i, \\mathbf{s}^i) = f^i + \\sum_{j \\in G} \\mathbb{1}\\left(x^i_j > 0 \\right) s^i_j\n",
    "\\end{equation}\n",
    "$"
   ]
  },
  {
   "cell_type": "markdown",
   "metadata": {},
   "source": [
    "Option 2 (Perfect Substitutes): Utility of agent $i$ is defined as:\n",
    "\n",
    "$\n",
    "\\begin{equation}\n",
    "u(f^i, \\mathbf{x}^i, \\mathbf{s}^i) = f^i + \\sum_{j \\in G} x^i_j s^i_j\n",
    "\\end{equation}\n",
    "$"
   ]
  },
  {
   "cell_type": "markdown",
   "metadata": {},
   "source": [
    "Option 3 (Transformed Cobb-Douglas): Utility of agent $i$ is defined as:\n",
    "\n",
    "$\n",
    "\\begin{equation}\n",
    "u(f^i, \\mathbf{x}^i, \\mathbf{s}^i) = f^i + \\sum_{j \\in G} s^i_j \\ln \\left(x^i_j\\right) \n",
    "\\end{equation}\n",
    "$\n",
    "and \n",
    "$\n",
    "\\begin{equation}\n",
    "\\sum_{j \\in G} s^i_j = 1\n",
    "\\end{equation}\n",
    "$\n",
    "and\n",
    "$s^i_j > 0$"
   ]
  },
  {
   "cell_type": "markdown",
   "metadata": {},
   "source": [
    "For the agent optimization problem to have a unique solution the agent's utility needs to satisfy:\n",
    "- (A1) $u(\\cdot)$ is continuous in all its arguments\n",
    "- (A2) $u(\\cdot)$ is increasing, that is $u(f^i, \\tilde{\\mathbf{x}}^i, \\mathbf{s}^i) > u(f^i, \\mathbf{x}^i, \\mathbf{s}^i)$ whenever $u(f^i, \\tilde{\\mathbf{x}}^i, \\mathbf{s}^i) >> u(f^i, \\mathbf{x}^i, \\mathbf{s}^i)$.\n",
    "- (A3) $u(\\cdot)$ is concave\n",
    "\n",
    "For Option 1 these are not all satisfied, for option 2 & 3 they are all satisfied."
   ]
  },
  {
   "cell_type": "markdown",
   "metadata": {},
   "source": [
    "## Agent Optimization Problem"
   ]
  },
  {
   "cell_type": "markdown",
   "metadata": {},
   "source": [
    "An agent faces the following optimization problem (taking prices as given):\n",
    "\n",
    "$\n",
    "\\begin{equation}\n",
    "\\max u\\left(f^i, \\mathbf{x}^i, \\mathbf{s}^i\\right) \\text{s.t. } \\sum_{j \\in G} p_j x^i_j \\leq \\sum_{j \\in G} p_j e^i_j\n",
    "\\end{equation}\n",
    "$"
   ]
  },
  {
   "cell_type": "markdown",
   "metadata": {},
   "source": [
    "The Lagrangian of this problem is:\n",
    "\n",
    "$\n",
    "\\begin{equation}\n",
    "L = u\\left(f^i, \\mathbf{x}^i, \\mathbf{s}^i\\right) + \\lambda \\left(\\sum_{j \\in G} p_j e^i_j - \\sum_{j \\in G} p_j x^i_j\\right)\n",
    "\\end{equation}\n",
    "$\n",
    "\n",
    "And the $m+1$ first order conditions are:\n",
    "\n",
    "$\n",
    "\\begin{equation}\n",
    "\\frac{\\delta u\\left(f^i, \\mathbf{x}^i, \\mathbf{s}^i\\right)}{\\delta x_j^i}- \\lambda p_j = 0 % s_j^i - \\lambda p_j = 0\n",
    "\\end{equation}\n",
    "$\n",
    "and\n",
    "$\n",
    "\\begin{equation}\n",
    "\\sum_{j \\in G} p_j e^i_j - \\sum_{j \\in G} p_j x^i_j = 0\n",
    "\\end{equation}\n",
    "$\n",
    "\n",
    "This then allows derivation of demand functions $x^{i,\\ast}_j(\\mathbf{p}, \\mathbf{e}^i)$."
   ]
  },
  {
   "cell_type": "markdown",
   "metadata": {},
   "source": [
    "## Competitive Equilibrium"
   ]
  },
  {
   "cell_type": "markdown",
   "metadata": {},
   "source": [
    "An equilibrium is a consumption bundle for each agent $\\mathbf{x}^1,\\dots,\\mathbf{x}^n$ and price $\\mathbf{p}$ such that\n",
    "\n",
    "- 1) feasibility: the allocation is feasible, that is $\\forall j \\in G$ we have $\\sum_{i \\in I} x_j^i = \\sum_{i \\in I} e_j^i$.\n",
    "- 2) optimality: the consumption bundle solves the agent's optimization problem, given prices and initial endowments: $x_j^{i,\\ast}\\left(\\mathbf{p},\\mathbf{e}^i\\right) = x_j^i$."
   ]
  },
  {
   "cell_type": "markdown",
   "metadata": {},
   "source": [
    "There exists a simple algorithm to find the competitive equilibrium:\n",
    "\n",
    "- 1. solve the optimization problem for each consumer to get their excess demand as a function of prices and endowments:  $z_j^{i,\\ast}\\left(\\mathbf{p},\\mathbf{e}^i\\right) = x_j^{i,\\ast}\\left(\\mathbf{p},\\mathbf{e}^i\\right) - e_j^i$\n",
    "- 2. find a price s.t. net demand for each good in economy is zero: $\\sum_{i \\in I} z_j^{i,\\ast}\\left(\\mathbf{p},\\mathbf{e}^i\\right) = 0$ for each $j \\in G$"
   ]
  },
  {
   "cell_type": "markdown",
   "metadata": {},
   "source": [
    "Intuitively: the agent's sell their endowments $\\mathbf{e}^i$ at market prices $\\mathbf{p}$ and then buy the best bundle they can afford."
   ]
  },
  {
   "cell_type": "markdown",
   "metadata": {},
   "source": [
    "Properties of the competitive equilibrium:\n",
    "\n",
    "- Existence: Consider an economy which satisfies $A1-A4$, then there exists a CE $\\left(\\mathbf{p},\\left(\\mathbf{x}^i\\right)_{i \\in I}\\right)$.\n",
    "- Uniqueness: The CE is not in general unique.\n",
    "- Stability (do reasonable dynamic adjustment processes converge to CE): Not in general.\n",
    "- First Welfare Theorem: Let $\\left(\\mathbf{p},\\left(\\mathbf{x}^i\\right)_{i \\in I}\\right)$ be a CE, then (given A2 holds) $\\left(\\mathbf{x}^i\\right)_{i \\in I}$ is Pareto optimal. This means, we cannot make any agent better off without making another agent worse off.\n",
    "- Second Welfare Theorem: Consider an economy which satisfies $A1-A4$. If $\\left(\\mathbf{x}^i\\right)_{i \\in I}$ is Pareto optimal then there exists a $\\mathbf{p}$ such that $\\left(\\mathbf{p},\\left(\\mathbf{x}^i\\right)_{i \\in I}\\right)$ is a CE. This means, we can achieve any Pareto optimal allocation with some price vector (potentially requiring redistribution of endowments).\n",
    "\n",
    "where\n",
    "- A4: $\\mathbf{e}^i >> 0$"
   ]
  },
  {
   "cell_type": "markdown",
   "metadata": {},
   "source": [
    "However, there exists a subclass of utility functions which satisfy the gross-substitues property and as a result guarantee a unique equilibrium.\n",
    "\n",
    "Option 3 falls into that class."
   ]
  },
  {
   "cell_type": "markdown",
   "metadata": {},
   "source": [
    "## Our Game"
   ]
  },
  {
   "cell_type": "markdown",
   "metadata": {},
   "source": [
    "We take Option 3. Then it can be shown that the agent's demand functions are\n",
    "$\n",
    "\\begin{equation}\n",
    "x^{i,\\ast}_j(\\mathbf{p}, \\mathbf{e}^i) = \\frac{s_j^{i}}{p_j}\\sum_{k \\in G} p_k e^i_k\n",
    "\\end{equation}\n",
    "$\n",
    "and excess demand functions are\n",
    "$\n",
    "\\begin{equation}\n",
    "z^{i,\\ast}_j(\\mathbf{p}, \\mathbf{e}^i) = \\frac{s_j^{i}}{p_j}\\sum_{k \\in G} p_k e^i_k - e_j^i\n",
    "\\end{equation}\n",
    "$"
   ]
  },
  {
   "cell_type": "markdown",
   "metadata": {},
   "source": [
    "We therefore have the zero net demand for $j$ condition given by:\n",
    "$\n",
    "\\begin{equation}\n",
    "\\sum_{i \\in I} \\frac{s_j^{i}}{p_j}\\sum_{k \\in G} p_k e^i_k - \\sum_{i \\in I} e_j^i = 0\n",
    "\\end{equation}\n",
    "$\n",
    "which is homogenous of degree zero. Hence, we can set $p_1 = 1 w.l.o.g$.\n",
    "Then for $j \\neq 1$ we have the following set of linear equations\n",
    "\n",
    "$\n",
    "\\begin{equation}\n",
    "p_j \\sum_{i \\in I}\\left(s_j^i - 1\\right)e_j^i + \\sum_{k \\in G \\backslash \\{j\\}} p_k \\sum_{i \\in I} s_j^ie_k^i = 0\n",
    "\\end{equation}\n",
    "$"
   ]
  },
  {
   "cell_type": "markdown",
   "metadata": {},
   "source": [
    "Hence, we have $m \\times m$ matrix\n",
    "\n",
    "$\n",
    "\\mathbf{A} = \n",
    "\\begin{bmatrix} \n",
    "\\sum_{i\\in I}\\left(s_1^i-1\\right)e_1^i & \\sum_{i \\in I}s_1^i e_2^i & ... & \\sum_{i \\in I}s_1^i e_m^i \\\\\n",
    "\\sum_{i \\in I}s_2^i e_1^i & \\sum_{i\\in I}\\left(s_2^i-1\\right)e_2^i & ... & \\sum_{i \\in I}s_2^i e_m^i \\\\\n",
    "... & ... & ... & ... \\\\\n",
    "\\sum_{i \\in I}s_m^i e_1^i & \\sum_{i \\in I}s_m^i e_2^i & ... & \\sum_{i\\in I}\\left(s_m^i-1\\right)e_m^i \\\\\n",
    "\\end{bmatrix} = \n",
    "\\begin{bmatrix} \n",
    "\\left(\\mathbf{s}_1-\\mathbf{1}\\right)^{T}\\mathbf{e}_1 & \\mathbf{s}_1^{T} \\mathbf{e}_2 & ... & \\mathbf{s}_1^{T} \\mathbf{e}_m \\\\\n",
    "\\mathbf{s}_2^{T} \\mathbf{e}_1 & \\left(\\mathbf{s}_2-\\mathbf{1}\\right)^{T}\\mathbf{e}_2 & ... & \\mathbf{s}_2^{T} \\mathbf{e}_m \\\\\n",
    "... & ... & ... & ... \\\\\n",
    "\\mathbf{s}_m^{T} \\mathbf{e}_1 & \\mathbf{s}_m^{T} \\mathbf{e}_2 & ... & \\left(\\mathbf{s}_m-\\mathbf{1}\\right)^{T}\\mathbf{e}_m \\\\\n",
    "\\end{bmatrix}\n",
    "$\n",
    "\n",
    "and $m \\times 1$ matrix/vector\n",
    "\n",
    "$\n",
    "\\mathbf{p} = \n",
    "\\begin{bmatrix} \n",
    "p_1 \\\\\n",
    "... \\\\\n",
    "p_m \\\\\n",
    "\\end{bmatrix}\n",
    "$\n",
    "\n",
    "and system\n",
    "\n",
    "$\n",
    "\\mathbf{A} \\mathbf{p} = \\mathbf{0}\n",
    "$\n",
    "\n",
    "where $\\mathbf{0}$ denotes an $m \\times 1$ vector of zeros."
   ]
  },
  {
   "cell_type": "markdown",
   "metadata": {},
   "source": [
    "So we have a homegenous system of linear equations. Importantly, if there is a solution to the system other than $\\mathbf{p} = \\mathbf{0}$, then there are inifinitely many such solutions. We can fix one by setting $p_1=1$.\n",
    "\n",
    "$\n",
    "\\mathbf{p} = \\mathbf{A}^{-1} \\mathbf{0}\n",
    "$"
   ]
  },
  {
   "cell_type": "markdown",
   "metadata": {},
   "source": [
    "By Cramer's Rule we have\n",
    "\n",
    "$\n",
    "p_k = \\frac{det(A_i)}{det(A)}\n",
    "$\n",
    "\n",
    "where $A_i$ is the matrix obtained by replacing the $i-th$ column of $A$ by $\\mathbf{0}$."
   ]
  },
  {
   "cell_type": "markdown",
   "metadata": {},
   "source": [
    "## Python Implementation"
   ]
  },
  {
   "cell_type": "code",
   "execution_count": 1,
   "metadata": {},
   "outputs": [],
   "source": [
    "import pprint\n",
    "import random\n",
    "from typing import List\n",
    "import math\n",
    "import numpy as np\n",
    "\n",
    "\n",
    "nb_agents = 10\n",
    "nb_goods = 7\n",
    "intitial_money_endowment = 20\n",
    "uniform_lower_bound_factor = 2\n",
    "uniform_upper_bound_factor = 10"
   ]
  },
  {
   "cell_type": "code",
   "execution_count": 2,
   "metadata": {},
   "outputs": [
    {
     "name": "stdout",
     "output_type": "stream",
     "text": [
      "Utility function params shape:  10 x 7\n",
      "Utility function params:  [[0.1506, 0.1266, 0.141, 0.1619, 0.1571, 0.1603, 0.1025],\n",
      " [0.1219, 0.0156, 0.1562, 0.1031, 0.2281, 0.2281, 0.147],\n",
      " [0.0056, 0.2786, 0.0585, 0.2646, 0.1532, 0.1894, 0.0501],\n",
      " [0.2687, 0.0396, 0.0573, 0.0264, 0.4053, 0.1233, 0.0794],\n",
      " [0.1523, 0.0165, 0.0041, 0.0288, 0.2469, 0.1975, 0.3539],\n",
      " [0.207, 0.014, 0.0651, 0.2163, 0.207, 0.1791, 0.1115],\n",
      " [0.1917, 0.0631, 0.0777, 0.0752, 0.1359, 0.233, 0.2234],\n",
      " [0.1699, 0.2164, 0.0192, 0.1753, 0.1397, 0.0329, 0.2466],\n",
      " [0.3016, 0.0262, 0.0721, 0.1541, 0.0197, 0.3213, 0.105],\n",
      " [0.1095, 0.0846, 0.3333, 0.1791, 0.0995, 0.1841, 0.0099]]\n"
     ]
    }
   ],
   "source": [
    "def _sample_utility_function_params(nb_goods: int, nb_agents: int) -> List[List[float]]:\n",
    "    \"\"\"\n",
    "    Sample utility function params for each agent.\n",
    "    :param nb_goods: the number of goods\n",
    "    :param nb_agents: the number of agents\n",
    "    :return: a matrix with utility function params for each agent\n",
    "    \"\"\"\n",
    "    decimals = 4 if nb_goods < 100 else 8\n",
    "    utility_function_params = []\n",
    "    for i in range(nb_agents):\n",
    "        random_integers = [random.randint(1,101) for _ in range(nb_goods)]\n",
    "        total = sum(random_integers)\n",
    "        normalized_fractions = [ round(i / float(total), decimals) for i in random_integers]\n",
    "        if not sum(normalized_fractions) == 1.0:\n",
    "            normalized_fractions[-1] = round(1.0 - sum(normalized_fractions[0:-1]), decimals)\n",
    "        utility_function_params.append(normalized_fractions)\n",
    "    return utility_function_params\n",
    "\n",
    "def _test_sample_utility_function_params(utility_function_params: List[List[float]]) -> None:\n",
    "    decimals = 4 if len(utility_function_params[0]) < 100 else 8\n",
    "    for row in utility_function_params:\n",
    "        assert(round(sum(row), decimals) == 1.0)\n",
    "\n",
    "utility_function_params = _sample_utility_function_params(nb_goods, nb_agents)\n",
    "_test_sample_utility_function_params(utility_function_params)\n",
    "print(\"Utility function params shape: \", str(len(utility_function_params)) + ' x ' + str(len(utility_function_params[0])))\n",
    "print(\"Utility function params: \", pprint.pformat(utility_function_params))"
   ]
  },
  {
   "cell_type": "code",
   "execution_count": 3,
   "metadata": {},
   "outputs": [
    {
     "name": "stdout",
     "output_type": "stream",
     "text": [
      "Utility of first agent from random bundle:  1.9238777870798833, [7, 7, 10, 6, 9, 7, 3]\n"
     ]
    }
   ],
   "source": [
    "def utility(utility_function_params: List[float], good_bundle: List[int]) -> float:\n",
    "    \"\"\"\n",
    "    Compute agent's utility given her utilit function params and a good bundle.\n",
    "    :param utility_function_params: utility function params of the agent\n",
    "    :param good_bundle: a bundle of goods with the quantitity for each good\n",
    "    :return: utility value\n",
    "    \"\"\"\n",
    "    goodwise_utility = [param * math.log(quantity) for param, quantity in zip(utility_function_params, good_bundle)]\n",
    "    return sum(goodwise_utility)\n",
    "\n",
    "random_bundle = [random.randint(1,10) for _ in range(nb_goods)]\n",
    "utility = utility(utility_function_params[0], random_bundle)\n",
    "print(\"Utility of first agent from random bundle: \", str(utility) + ', ' + pprint.pformat(random_bundle)) "
   ]
  },
  {
   "cell_type": "code",
   "execution_count": 4,
   "metadata": {},
   "outputs": [
    {
     "name": "stdout",
     "output_type": "stream",
     "text": [
      "Endowments: \n",
      "[[ 6  7  6 13  8 12 11]\n",
      " [ 5  2  7 14  6 10  3]\n",
      " [ 7  4  6 15 11 10  7]\n",
      " [ 7  7  5 10  6 10  5]\n",
      " [ 4  3  9 14 12 10  6]\n",
      " [ 6  7  3  8  7  7  7]\n",
      " [ 3  5  5  8  7  7  6]\n",
      " [ 9  3  6 10 15 11  7]\n",
      " [ 4  2  7  9 10 10  5]\n",
      " [ 6  5  6  8 10  6  6]]\n"
     ]
    }
   ],
   "source": [
    "def _sample_good_instances(nb_agents: int, uniform_lower_bound_factor: int, uniform_upper_bound_factor: int) -> int:\n",
    "    \"\"\"\n",
    "    Sample the number of instances for a good.\n",
    "    :param nb_agents: the number of agents\n",
    "    :param uniform_lower_bound_factor: the lower bound factor of a uniform distribution\n",
    "    :param uniform_upper_bound_factor: the upper bound factor of a uniform distribution\n",
    "    :return: the number of instances I sampled.\n",
    "    \"\"\"\n",
    "    a = nb_agents + nb_agents * uniform_lower_bound_factor\n",
    "    b = nb_agents + nb_agents * uniform_upper_bound_factor\n",
    "    # Return random integer in range [a, b]\n",
    "    nb_instances = [round(np.random.uniform(a, b)) for _ in range(nb_goods)]\n",
    "    return nb_instances\n",
    "\n",
    "def _generate_endowments(nb_goods: int, nb_agents: int, uniform_lower_bound_factor: int, uniform_upper_bound_factor: int) -> List[List[int]]:\n",
    "    # sample good instances\n",
    "    instances_per_good = _sample_good_instances(nb_agents, uniform_lower_bound_factor, uniform_upper_bound_factor)\n",
    "    # each agent receives at least one good\n",
    "    endowments = [[1] * nb_goods for _ in range(nb_agents)]\n",
    "    # randomly assign additional goods to create differences\n",
    "    for good_id in range(nb_goods):\n",
    "        for _ in range(instances_per_good[good_id] - nb_agents):\n",
    "            agent_id = random.randint(0, nb_agents - 1)\n",
    "            endowments[agent_id][good_id] += 1\n",
    "    return endowments\n",
    "\n",
    "endowments = _generate_endowments(nb_goods, nb_agents, uniform_lower_bound_factor, uniform_upper_bound_factor)\n",
    "print(\"Endowments: \")\n",
    "print(np.asarray(endowments))"
   ]
  },
  {
   "cell_type": "code",
   "execution_count": 5,
   "metadata": {},
   "outputs": [
    {
     "name": "stdout",
     "output_type": "stream",
     "text": [
      "Equilibrium price vector:  [1.0,\n",
      " 0.7512245410820378,\n",
      " 0.5520654022357914,\n",
      " 0.452849803921238,\n",
      " 0.6814741157708849,\n",
      " 0.6676180129641256,\n",
      " 0.7979923950497573]\n",
      "Equilibrium allocation:  array([[ 6.43049004,  7.1958655 , 10.90555268, 15.26552564,  9.84341779,\n",
      "        10.25237717,  5.48459055],\n",
      "       [ 3.64064177,  0.62019616,  8.45015627,  6.79952732,  9.99655046,\n",
      "        10.20402424,  5.5016483 ],\n",
      "       [ 0.22326293, 14.78563333,  4.22468101, 23.29508196,  8.96268199,\n",
      "        11.31046645,  2.50303868],\n",
      "       [ 9.21705048,  1.80821355,  3.56031473,  1.99974234, 20.40100389,\n",
      "         6.33518542,  3.41307671],\n",
      "       [ 5.66616667,  0.81715345,  0.2763012 ,  2.36607085, 13.47910843,\n",
      "        11.00597434, 16.49951779],\n",
      "       [ 6.53440173,  0.5882931 ,  3.72242489, 15.07779453,  9.58862791,\n",
      "         8.4684324 ,  4.41074144],\n",
      "       [ 5.24699145,  2.29904693,  3.85228786,  4.54518851,  5.45831174,\n",
      "         9.5524796 ,  7.66253833],\n",
      "       [ 7.17766688, 12.16963097,  1.46926664, 16.3537612 ,  8.66038025,\n",
      "         2.08188997, 13.05522135],\n",
      "       [ 9.32650902,  1.07849789,  4.03861553, 10.52291911,  0.89393232,\n",
      "        14.88231378,  4.06891225],\n",
      "       [ 3.53681903,  3.63746912, 19.5003992 , 12.77438853,  4.71598522,\n",
      "         8.90685664,  0.4007146 ]])\n"
     ]
    }
   ],
   "source": [
    "def _construct_A(endowments: List[List[int]], utility_function_params: List[List[float]]) -> List[List[float]]:\n",
    "    nb_agents = len(endowments)\n",
    "    nb_goods = len(endowments[0])\n",
    "    endowments_a = np.array(endowments, dtype=np.int)\n",
    "    params_a = np.array(utility_function_params, dtype=np.float)\n",
    "    A = np.zeros((nb_goods, nb_goods), dtype=np.float)\n",
    "    for j in range(nb_goods):\n",
    "        for k in range(nb_goods):\n",
    "            if k == j:\n",
    "                adjusted = params_a[:,j] - np.ones(nb_agents, dtype=np.float)\n",
    "                val = np.inner(adjusted, endowments_a[:,k])\n",
    "            else:\n",
    "                val = np.inner(params_a[:,j], endowments_a[:,k])\n",
    "            A[j, k] = val\n",
    "    return A\n",
    "\n",
    "# def _null_space(A, eps=1e-15):\n",
    "#     u, s, vh = np.linalg.svd(A)\n",
    "#     null_space = np.compress(s <= eps, vh, axis=0)\n",
    "#     return null_space.T\n",
    "\n",
    "\n",
    "def _compute_competitive_equilibrium(endowments: List[List[int]], utility_function_params: List[List[float]]) -> (List[float], List[int]):\n",
    "    \"\"\"\n",
    "    Computes the competitive equilibrium prices and allocation.\n",
    "    \"\"\"\n",
    "    A = np.array(_construct_A(endowments, utility_function_params), dtype=np.float)\n",
    "    b = np.zeros(nb_goods, dtype=np.float)\n",
    "    # set first price to 1\n",
    "    b_new = - A[1:, 0]\n",
    "    A_new = np.delete(np.delete(A, 0, axis=1), 0, axis=0)\n",
    "    #     u, s, vh = np.linalg.svd(A)\n",
    "    #     p = np.dot(A, vh[-1])\n",
    "    p = np.linalg.solve(A_new, b_new)\n",
    "    #     det_A = np.linalg.det(A)\n",
    "    #     p = [0.0 for _ in range(len(endowments))]\n",
    "    #     for i in range(len(endowments)):\n",
    "    #         A_i = np.copy(A)\n",
    "    #         A_i[:, i] =  0\n",
    "    #         # apply Cramer's Rule\n",
    "    #         det_A_i = np.linalg.det(A_i)\n",
    "    #         p[i] = det_A_i / det_A\n",
    "    endowments_a = np.array(endowments, dtype=np.int)\n",
    "    params_a = np.array(utility_function_params, dtype=np.float)\n",
    "    eq_price = list(np.append(np.array(1, dtype=np.float),p))\n",
    "    eq_allocation = np.zeros((len(endowments), len(endowments[0])), dtype=np.float)\n",
    "    for i in range(len(endowments)):\n",
    "        for j in range(len(endowments[0])):\n",
    "            eq_allocation[i, j] = (params_a[i, j] / eq_price[j]) * np.inner(eq_price, endowments_a[i,:])\n",
    "    return eq_price, eq_allocation\n",
    "\n",
    "\n",
    "def _test_construct_A():\n",
    "    endowments = [[1, 3],[2, 1]]\n",
    "    utility_function_params = [[round(1/float(3), 4), round(2/float(3), 4)], [round(2/float(3), 4), round(1/float(3), 4)]]\n",
    "    return _construct_A(endowments, utility_function_params)\n",
    "    \n",
    "def _test_compute_competitive_equilibrium(endowments: int, utility_function_params: int, eps=1e-10) -> None:\n",
    "    #     endowments = [[1, 3],[2, 1]]\n",
    "    #     utility_function_params = [[round(1/float(3), 4), round(2/float(3), 4)], [round(2/float(3), 4), round(1/float(3), 4)]]\n",
    "    p, al = _compute_competitive_equilibrium(endowments,utility_function_params)\n",
    "    A = np.array(_construct_A(endowments, utility_function_params), dtype=np.float)\n",
    "    b = np.dot(A, p)\n",
    "    endowments_a = np.array(endowments, dtype=np.int)\n",
    "    # price must be a solution to the linear system of equations\n",
    "    assert(np.allclose(b, np.zeros(len(endowments[0]), dtype=np.float)))\n",
    "    # the final allocations must be feasible\n",
    "    assert(np.allclose(np.sum(al, axis=0), np.sum(endowments_a, axis=0)))\n",
    "    \n",
    "eq_price, eq_allocation = _compute_competitive_equilibrium(endowments,utility_function_params)\n",
    "\n",
    "print(\"Equilibrium price vector: \", pprint.pformat(eq_price))\n",
    "print(\"Equilibrium allocation: \", pprint.pformat(eq_allocation))\n",
    "_test_compute_competitive_equilibrium(endowments,utility_function_params)"
   ]
  }
 ],
 "metadata": {
  "kernelspec": {
   "display_name": "Python 3",
   "language": "python",
   "name": "python3"
  },
  "language_info": {
   "codemirror_mode": {
    "name": "ipython",
    "version": 3
   },
   "file_extension": ".py",
   "mimetype": "text/x-python",
   "name": "python",
   "nbconvert_exporter": "python",
   "pygments_lexer": "ipython3",
   "version": "3.7.2"
  }
 },
 "nbformat": 4,
 "nbformat_minor": 2
}
